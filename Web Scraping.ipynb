{
 "cells": [
  {
   "cell_type": "code",
   "execution_count": 130,
   "metadata": {},
   "outputs": [],
   "source": [
    "import pandas as pd\n",
    "import requests\n",
    "from bs4 import BeautifulSoup"
   ]
  },
  {
   "cell_type": "code",
   "execution_count": 12,
   "metadata": {},
   "outputs": [],
   "source": [
    "page = requests.get('https://forecast.weather.gov/MapClick.php?lat=40.7146&lon=-74.0071#.XVqHN-gzYuU')\n",
    "soup = BeautifulSoup(page.content, 'html.parser')\n",
    "print ([a for a in soup.find_all('a')])"
   ]
  },
  {
   "cell_type": "code",
   "execution_count": 34,
   "metadata": {},
   "outputs": [],
   "source": [
    "week = soup.find(id='seven-day-forecast-body')\n",
    "# week"
   ]
  },
  {
   "cell_type": "code",
   "execution_count": 52,
   "metadata": {},
   "outputs": [],
   "source": [
    "items = week.find_all(class_='tombstone-container')"
   ]
  },
  {
   "cell_type": "code",
   "execution_count": 68,
   "metadata": {},
   "outputs": [
    {
     "data": {
      "text/plain": [
       "<div class=\"tombstone-container\">\n",
       "<p class=\"period-name\">Tonight<br/><br/></p>\n",
       "<p><img alt=\"Tonight: A 30 percent chance of showers and thunderstorms, mainly after midnight.  Mostly cloudy, with a low around 74. South wind 3 to 6 mph. \" class=\"forecast-icon\" src=\"newimages/medium/nscttsra30.png\" title=\"Tonight: A 30 percent chance of showers and thunderstorms, mainly after midnight.  Mostly cloudy, with a low around 74. South wind 3 to 6 mph. \"/></p><p class=\"short-desc\">Chance<br/>T-storms</p><p class=\"temp temp-low\">Low: 74 °F</p></div>"
      ]
     },
     "execution_count": 68,
     "metadata": {},
     "output_type": "execute_result"
    }
   ],
   "source": [
    "items[0]"
   ]
  },
  {
   "cell_type": "code",
   "execution_count": 141,
   "metadata": {},
   "outputs": [],
   "source": [
    "period_names = [item.find(class_='period-name').get_text() for item in items]\n",
    "short_descriptions = [item.find(class_=\"short-desc\").get_text() for item in items]\n",
    "long_descriptions = [item.find('img')['title'] for item in items]\n",
    "temperatures = [item.find(class_=\"temp\").get_text() for item in items]\n"
   ]
  },
  {
   "cell_type": "code",
   "execution_count": 142,
   "metadata": {},
   "outputs": [],
   "source": [
    "weather_stuff = pd.DataFrame(\n",
    "    {\n",
    "        'period_name' : period_names,\n",
    "        'temperature' : temperatures,\n",
    "        'short_description' : short_descriptions,\n",
    "        'long_description' : long_descriptions,\n",
    "    }\n",
    ")"
   ]
  },
  {
   "cell_type": "code",
   "execution_count": 152,
   "metadata": {},
   "outputs": [
    {
     "data": {
      "text/html": [
       "<div>\n",
       "<style scoped>\n",
       "    .dataframe tbody tr th:only-of-type {\n",
       "        vertical-align: middle;\n",
       "    }\n",
       "\n",
       "    .dataframe tbody tr th {\n",
       "        vertical-align: top;\n",
       "    }\n",
       "\n",
       "    .dataframe thead th {\n",
       "        text-align: right;\n",
       "    }\n",
       "</style>\n",
       "<table border=\"1\" class=\"dataframe\">\n",
       "  <thead>\n",
       "    <tr style=\"text-align: right;\">\n",
       "      <th></th>\n",
       "      <th>period_name</th>\n",
       "      <th>temperature</th>\n",
       "      <th>short_description</th>\n",
       "      <th>long_description</th>\n",
       "    </tr>\n",
       "  </thead>\n",
       "  <tbody>\n",
       "    <tr>\n",
       "      <th>0</th>\n",
       "      <td>Tonight</td>\n",
       "      <td>Low: 74 °F</td>\n",
       "      <td>ChanceT-storms</td>\n",
       "      <td>Tonight: A 30 percent chance of showers and th...</td>\n",
       "    </tr>\n",
       "    <tr>\n",
       "      <th>1</th>\n",
       "      <td>Wednesday</td>\n",
       "      <td>High: 85 °F</td>\n",
       "      <td>ChanceT-storms</td>\n",
       "      <td>Wednesday: A 50 percent chance of showers and ...</td>\n",
       "    </tr>\n",
       "    <tr>\n",
       "      <th>2</th>\n",
       "      <td>WednesdayNight</td>\n",
       "      <td>Low: 75 °F</td>\n",
       "      <td>ChanceT-storms</td>\n",
       "      <td>Wednesday Night: A 50 percent chance of shower...</td>\n",
       "    </tr>\n",
       "    <tr>\n",
       "      <th>3</th>\n",
       "      <td>Thursday</td>\n",
       "      <td>High: 87 °F</td>\n",
       "      <td>Slight ChanceT-storms thenChanceShowers</td>\n",
       "      <td>Thursday: A 30 percent chance of showers and t...</td>\n",
       "    </tr>\n",
       "    <tr>\n",
       "      <th>4</th>\n",
       "      <td>ThursdayNight</td>\n",
       "      <td>Low: 69 °F</td>\n",
       "      <td>ChanceShowers</td>\n",
       "      <td>Thursday Night: A chance of showers and thunde...</td>\n",
       "    </tr>\n",
       "    <tr>\n",
       "      <th>5</th>\n",
       "      <td>Friday</td>\n",
       "      <td>High: 78 °F</td>\n",
       "      <td>Partly Sunny</td>\n",
       "      <td>Friday: Partly sunny, with a high near 78.</td>\n",
       "    </tr>\n",
       "    <tr>\n",
       "      <th>6</th>\n",
       "      <td>FridayNight</td>\n",
       "      <td>Low: 65 °F</td>\n",
       "      <td>Partly Cloudy</td>\n",
       "      <td>Friday Night: Partly cloudy, with a low around...</td>\n",
       "    </tr>\n",
       "    <tr>\n",
       "      <th>7</th>\n",
       "      <td>Saturday</td>\n",
       "      <td>High: 78 °F</td>\n",
       "      <td>Sunny</td>\n",
       "      <td>Saturday: Sunny, with a high near 78.</td>\n",
       "    </tr>\n",
       "    <tr>\n",
       "      <th>8</th>\n",
       "      <td>SaturdayNight</td>\n",
       "      <td>Low: 66 °F</td>\n",
       "      <td>Mostly Clear</td>\n",
       "      <td>Saturday Night: Mostly clear, with a low aroun...</td>\n",
       "    </tr>\n",
       "  </tbody>\n",
       "</table>\n",
       "</div>"
      ],
      "text/plain": [
       "      period_name  temperature                        short_description  \\\n",
       "0         Tonight   Low: 74 °F                           ChanceT-storms   \n",
       "1       Wednesday  High: 85 °F                           ChanceT-storms   \n",
       "2  WednesdayNight   Low: 75 °F                           ChanceT-storms   \n",
       "3        Thursday  High: 87 °F  Slight ChanceT-storms thenChanceShowers   \n",
       "4   ThursdayNight   Low: 69 °F                            ChanceShowers   \n",
       "5          Friday  High: 78 °F                             Partly Sunny   \n",
       "6     FridayNight   Low: 65 °F                            Partly Cloudy   \n",
       "7        Saturday  High: 78 °F                                    Sunny   \n",
       "8   SaturdayNight   Low: 66 °F                             Mostly Clear   \n",
       "\n",
       "                                    long_description  \n",
       "0  Tonight: A 30 percent chance of showers and th...  \n",
       "1  Wednesday: A 50 percent chance of showers and ...  \n",
       "2  Wednesday Night: A 50 percent chance of shower...  \n",
       "3  Thursday: A 30 percent chance of showers and t...  \n",
       "4  Thursday Night: A chance of showers and thunde...  \n",
       "5         Friday: Partly sunny, with a high near 78.  \n",
       "6  Friday Night: Partly cloudy, with a low around...  \n",
       "7              Saturday: Sunny, with a high near 78.  \n",
       "8  Saturday Night: Mostly clear, with a low aroun...  "
      ]
     },
     "execution_count": 152,
     "metadata": {},
     "output_type": "execute_result"
    }
   ],
   "source": [
    "weather_stuff"
   ]
  },
  {
   "cell_type": "code",
   "execution_count": 154,
   "metadata": {},
   "outputs": [],
   "source": [
    "weather_stuff.to_csv('data/weather.csv', sep='\\t')"
   ]
  },
  {
   "cell_type": "code",
   "execution_count": null,
   "metadata": {},
   "outputs": [],
   "source": [
    "\n"
   ]
  }
 ],
 "metadata": {
  "kernelspec": {
   "display_name": "Python 3",
   "language": "python",
   "name": "python3"
  },
  "language_info": {
   "codemirror_mode": {
    "name": "ipython",
    "version": 3
   },
   "file_extension": ".py",
   "mimetype": "text/x-python",
   "name": "python",
   "nbconvert_exporter": "python",
   "pygments_lexer": "ipython3",
   "version": "3.7.3"
  }
 },
 "nbformat": 4,
 "nbformat_minor": 2
}
