{
 "cells": [
  {
   "cell_type": "markdown",
   "metadata": {},
   "source": [
    "# Derivatives"
   ]
  },
  {
   "cell_type": "code",
   "execution_count": 2,
   "metadata": {},
   "outputs": [
    {
     "name": "stdout",
     "output_type": "stream",
     "text": [
      "x.grad = 6.0\n",
      "x.grad.item() = 6.0\n"
     ]
    }
   ],
   "source": [
    "import torch\n",
    "\n",
    "# Find derivative of y(x) = x^2 + 2x + 5 at x=3\n",
    "\n",
    "x = torch.tensor(2., requires_grad=True)\n",
    "y = x**2 + 2*x + 5\n",
    "y.backward()\n",
    "print (f'x.grad = {x.grad}')\n",
    "print (f'x.grad.item() = {x.grad.item()}')"
   ]
  },
  {
   "cell_type": "markdown",
   "metadata": {
    "heading_collapsed": true
   },
   "source": [
    "# Dataset & Transforms"
   ]
  },
  {
   "cell_type": "code",
   "execution_count": null,
   "metadata": {
    "hidden": true
   },
   "outputs": [],
   "source": [
    "import os\n",
    "from PIL import Image\n",
    "import matplotlib.pyplot as plt\n",
    "%matplotlib inline\n",
    "import numpy as np\n",
    "import pandas as pd\n",
    "import torch\n",
    "from torch.utils.data import Dataset\n",
    "import torchvision.transforms as transforms\n",
    "\n",
    "class Dataset(Dataset):\n",
    "    def __init__(self, datadir=None, img_csv_file=None, transform=None):\n",
    "        self.datadir = datadir\n",
    "        self.transform = transform\n",
    "        self.df = pd.read_csv(os.path.join(self.datadir, img_csv_file))\n",
    "        \n",
    "    def __getitem__ (self, idx):\n",
    "        cat = self.df.iloc[idx][0]\n",
    "        img = self.df.iloc[idx][1]\n",
    "        img_arr = Image.open(os.path.join(self.datadir, img))\n",
    "        \n",
    "        if (self.transform):\n",
    "            # transform converts to a (1,20,20) tensor, which is then reshaped to a (20,20) tensor or numpy array\n",
    "            img_arr = self.transform(img_arr)\n",
    "            img_arr = torch.reshape(img_arr, (20,20))\n",
    "            #             img_arr = self.transform(img_arr).numpy().reshape(20,20)\n",
    "            \n",
    "        plt.imshow(img_arr)\n",
    "        plt.title(cat)\n",
    "        return(cat, img)\n",
    "    \n",
    "    def __len__(self):\n",
    "        return(self.df.shape[0])\n",
    "    \n",
    "    "
   ]
  },
  {
   "cell_type": "code",
   "execution_count": null,
   "metadata": {
    "hidden": true
   },
   "outputs": [],
   "source": [
    "croptensor_data_transform = transforms.Compose([transforms.CenterCrop(20), transforms.ToTensor()])\n",
    "dataset = Dataset(datadir=\"./data\" , img_csv_file=\"index.csv\", transform=None )\n",
    "dataset = Dataset(datadir=\"./data\" , img_csv_file=\"index.csv\", transform=croptensor_data_transform)\n",
    "\n",
    "dataset[9]"
   ]
  },
  {
   "cell_type": "code",
   "execution_count": null,
   "metadata": {
    "hidden": true
   },
   "outputs": [],
   "source": [
    "# Without Transforms\n",
    "dataset = Dataset('./data', 'index.csv')\n",
    "plt.figure(figsize=(30,20))\n",
    "for i in range(5):\n",
    "    plt.subplot(1,5,i+1)\n",
    "    dataset[i]\n",
    "\n",
    "# With Transforms\n",
    "dataset = Dataset('./data', 'index.csv', transform=croptensor_data_transform)\n",
    "plt.figure(figsize=(30,20))\n",
    "for i in range(5):\n",
    "    plt.subplot(1,5,i+1)\n",
    "    dataset[i]"
   ]
  },
  {
   "cell_type": "markdown",
   "metadata": {
    "heading_collapsed": true
   },
   "source": [
    "# Linear Regression"
   ]
  },
  {
   "cell_type": "code",
   "execution_count": null,
   "metadata": {
    "hidden": true
   },
   "outputs": [],
   "source": [
    "import torch \n",
    "\n",
    "x = torch.randint(1,5,(3,1))\n",
    "w = torch.tensor(2.0)\n",
    "b = torch.tensor(-1.0)\n",
    "\n",
    "print (x)\n",
    "\n",
    "y = w*x + b\n",
    "print (y)"
   ]
  },
  {
   "cell_type": "code",
   "execution_count": null,
   "metadata": {
    "hidden": true
   },
   "outputs": [],
   "source": [
    "from torch.nn import Linear\n",
    "\n",
    "torch.manual_seed(42)\n",
    "\n",
    "# y = 0.7645x + 0.8300  (w=0.7645, b=0.8300), for random seed 42\n",
    "lr = Linear(in_features=1, out_features=1, bias=True)\n",
    "print (f'Parameters = {list(lr.parameters())}')\n",
    "print ('-'*50)\n",
    "print(lr.state_dict())\n",
    "print (lr.state_dict().keys())\n",
    "for key, val in lr.state_dict().items():\n",
    "    print (f'{key} = {val}')\n",
    "print ('-'*50)\n",
    "x = torch.tensor([[1.], [2.]])\n",
    "x = torch.randn(5,1)\n",
    "yhat = lr(x)\n",
    "print ('x = ', x)\n",
    "print ('yhat = ', yhat)"
   ]
  },
  {
   "cell_type": "code",
   "execution_count": null,
   "metadata": {
    "hidden": true
   },
   "outputs": [],
   "source": [
    "# Create custom nn Module\n",
    "\n",
    "from torch import nn\n",
    "\n",
    "class LR(nn.Module):\n",
    "    def __init__ (self, input_size, outout_size):\n",
    "        super(LR, self).__init__()\n",
    "        self.lr_model = nn.Linear(input_size, outout_size)\n",
    "        \n",
    "    def forward(self, x):\n",
    "        y_pred = self.lr_model(x)\n",
    "        return (y_pred)"
   ]
  },
  {
   "cell_type": "code",
   "execution_count": null,
   "metadata": {
    "hidden": true
   },
   "outputs": [],
   "source": [
    "lr = LR(1,1)\n",
    "print(\"The parameters: \", list(lr.parameters()))\n",
    "print(\"Linear model: \", lr.lr_model)\n",
    "print ('-'*50)\n",
    "x = torch.randn(5,1)\n",
    "yhat = lr(x)\n",
    "print ('x = ', x)\n",
    "print ('yhat = ', yhat)"
   ]
  },
  {
   "cell_type": "markdown",
   "metadata": {
    "heading_collapsed": true
   },
   "source": [
    "# Loss & Optimization"
   ]
  },
  {
   "cell_type": "code",
   "execution_count": null,
   "metadata": {
    "hidden": true
   },
   "outputs": [],
   "source": [
    "# Create Dataset class\n",
    "from torch.utils.data import Dataset, DataLoader\n",
    "\n",
    "torch.manual_seed(45)\n",
    "\n",
    "class Dataset(Dataset):\n",
    "    def __init__(self, size):\n",
    "        self.x = torch.linspace(-6,6,steps=size).view(-1,1)\n",
    "        self.f = 1 * self.x -1\n",
    "        self.y = self.f + torch.randint(-10,10,(size,1)) * 0.01\n",
    "        self.len = self.x.shape[0]\n",
    "        \n",
    "    def __getitem__(self, idx):\n",
    "       return (self.x[idx], self.f[idx], self.y[idx])\n",
    "\n",
    "    def __len__(self):\n",
    "        return (self.len)\n",
    "\n",
    "############\n",
    "size = 100\n",
    "dataset = Dataset(size)\n",
    "############\n",
    "plt.figure(figsize=(7,5))\n",
    "plt.plot(dataset.x, dataset.f, 'b')\n",
    "plt.plot(dataset.x, dataset.y, 'rx')"
   ]
  },
  {
   "cell_type": "code",
   "execution_count": null,
   "metadata": {
    "hidden": true
   },
   "outputs": [],
   "source": [
    "# Create Model\n",
    "from torch import nn, optim\n",
    "\n",
    "class LR(nn.Module):\n",
    "    def __init__(self,input_size,output_size):\n",
    "        super(LR, self).__init__()\n",
    "        self.lr_model = nn.Linear(input_size, output_size)\n",
    "        \n",
    "    def forward (self, x):\n",
    "        yhat = self.lr_model(x)\n",
    "        return (yhat)\n",
    "    \n",
    "# Instantiate model\n",
    "model = LR(1,1)\n",
    "model.state_dict()"
   ]
  },
  {
   "cell_type": "code",
   "execution_count": null,
   "metadata": {
    "hidden": true
   },
   "outputs": [],
   "source": [
    "# Cost function\n",
    "criterion = nn.MSELoss()\n",
    "\n",
    "# Create optimzier\n",
    "optimizer = optim.SGD(model.parameters(), lr=0.01)\n",
    "list(model.parameters()), optimizer.state_dict()"
   ]
  },
  {
   "cell_type": "code",
   "execution_count": null,
   "metadata": {
    "hidden": true
   },
   "outputs": [],
   "source": [
    "# Create DataLoader\n",
    "\n",
    "trainloader = DataLoader(dataset=dataset, batch_size=1)\n",
    "\n",
    "def train_model_BGD(iter):\n",
    "    for epoch in range(iter):\n",
    "        for x, f, y in trainloader:\n",
    "            yhat = model(x)\n",
    "            loss = criterion(yhat, y)\n",
    "            optimizer.zero_grad()\n",
    "            loss.backward()\n",
    "            optimizer.step()\n",
    "            \n",
    "train_model_BGD(10)"
   ]
  },
  {
   "cell_type": "code",
   "execution_count": null,
   "metadata": {
    "hidden": true
   },
   "outputs": [],
   "source": [
    "w = model.state_dict()['lr_model.weight'].item()\n",
    "b = model.state_dict()['lr_model.bias'].item()\n",
    "x = dataset.x\n",
    "y = w*x + b\n",
    "\n",
    "plt.plot(dataset.x, dataset.y, 'r')\n",
    "plt.plot(x, y, 'b--')"
   ]
  },
  {
   "cell_type": "markdown",
   "metadata": {
    "heading_collapsed": true
   },
   "source": [
    "# Multiple Linear Regression"
   ]
  },
  {
   "cell_type": "code",
   "execution_count": null,
   "metadata": {
    "hidden": true
   },
   "outputs": [],
   "source": [
    "from torch import nn\n",
    "\n",
    "class Linear(nn.Module):\n",
    "    def __init__(self, input_size, output_size):\n",
    "        super(Linear, self).__init__()\n",
    "        self.lr_model = nn.Linear(input_size, output_size)\n",
    "        \n",
    "    def forward(self, x):\n",
    "        return (self.lr_model(x))"
   ]
  },
  {
   "cell_type": "code",
   "execution_count": null,
   "metadata": {
    "hidden": true
   },
   "outputs": [],
   "source": [
    "lr_model = Linear(2,1)\n",
    "lr_model.state_dict()['lr_model.weight'].shape\n",
    "\n",
    "x = torch.randn((5,2))\n",
    "lr_model(x)"
   ]
  },
  {
   "cell_type": "code",
   "execution_count": null,
   "metadata": {
    "hidden": true
   },
   "outputs": [],
   "source": [
    "a = torch.randint(0,5,(1,2))\n",
    "b = torch.randint(0,5,(2,2))\n",
    "c = torch.randint(0,5,(1,2))\n",
    "\n",
    "print (a)\n",
    "print (20*'-')\n",
    "print (b)\n",
    "print (20*'-')\n",
    "print (c)"
   ]
  },
  {
   "cell_type": "markdown",
   "metadata": {
    "heading_collapsed": true
   },
   "source": [
    "# Logistic Regression"
   ]
  },
  {
   "cell_type": "markdown",
   "metadata": {
    "heading_collapsed": true,
    "hidden": true
   },
   "source": [
    "## Sequential Model"
   ]
  },
  {
   "cell_type": "code",
   "execution_count": null,
   "metadata": {
    "hidden": true
   },
   "outputs": [],
   "source": [
    "import torch\n",
    "import torch.nn as nn\n",
    "\n",
    "torch.manual_seed(45)\n",
    "x = torch.randn(3,2)\n",
    "# x = torch.ones(3,1)\n",
    "logR_seq_model = nn.Sequential(nn.Linear(2,1), nn.Sigmoid())\n",
    "print ('x = ', x)\n",
    "print ('\\nModel parameters = \\n', logR_seq_model.parameters, '\\nModel state dictionary = \\n', logR_seq_model.state_dict())\n",
    "print ('-'*30)\n",
    "print ('Model predictions = \\n', logR_seq_model(x))"
   ]
  },
  {
   "cell_type": "markdown",
   "metadata": {
    "heading_collapsed": true,
    "hidden": true
   },
   "source": [
    "## Custom Model"
   ]
  },
  {
   "cell_type": "code",
   "execution_count": null,
   "metadata": {
    "hidden": true
   },
   "outputs": [],
   "source": [
    "import torch\n",
    "from torch.nn import Module\n",
    "\n",
    "class logR(Module):\n",
    "    def __init__(self, input_size, output_size):\n",
    "        super(logR, self).__init__()\n",
    "        self.logR_model = nn.Linear(input_size, output_size)\n",
    "        \n",
    "    def forward(self, x):\n",
    "        yhat = self.logR_model(torch.sigmoid(x))\n",
    "        return (yhat)"
   ]
  },
  {
   "cell_type": "code",
   "execution_count": null,
   "metadata": {
    "hidden": true
   },
   "outputs": [],
   "source": [
    "torch.manual_seed(45)\n",
    "\n",
    "logR_custom_model = logR(2,1)\n",
    "logR_custom_model.state_dict()['logR_model.weight'].data[0] = torch.tensor([[-0.1108, -0.3715]])\n",
    "logR_custom_model.state_dict()['logR_model.bias'].data[0] = torch.tensor([0.4399])\n",
    "print (logR_custom_model.state_dict())\n",
    "\n",
    "print ('x = ', x)\n",
    "print ('\\nModel parameters = \\n', logR_custom_model.parameters, '\\nModel state dictionary = \\n', logR_custom_model.state_dict())\n",
    "print ('-'*30)\n",
    "print ('Model predictions = \\n', logR_custom_model(x))"
   ]
  },
  {
   "cell_type": "markdown",
   "metadata": {
    "hidden": true
   },
   "source": [
    "## Binary Classification - using Sigmoid activation"
   ]
  },
  {
   "cell_type": "code",
   "execution_count": null,
   "metadata": {
    "hidden": true
   },
   "outputs": [],
   "source": [
    "import torch\n",
    "import torch.nn as nn\n",
    "from torch.nn import Module\n",
    "from torch.utils.data import Dataset, DataLoader"
   ]
  },
  {
   "cell_type": "code",
   "execution_count": null,
   "metadata": {
    "hidden": true
   },
   "outputs": [],
   "source": [
    "# Cerate dataset\n",
    "\n",
    "class Data(Dataset):\n",
    "    def __init__(self, samples=5, input_size=2, output_size=1, classes=2):\n",
    "        self.x = torch.randn(samples, input_size, dtype=torch.float32)\n",
    "        self.y = torch.zeros(samples,1)\n",
    "        self.y[torch.sum(self.x, dim=1)>0] = 1\n",
    "        self.len = self.x.shape[0]\n",
    "        \n",
    "    def __getitem__(self, idx):\n",
    "        return (self.x[idx], self.y[idx])\n",
    "    \n",
    "    def __len__(self):\n",
    "        return (self.len)"
   ]
  },
  {
   "cell_type": "code",
   "execution_count": null,
   "metadata": {
    "hidden": true
   },
   "outputs": [],
   "source": [
    "# Cerate custom model\n",
    "\n",
    "class logR(nn.Module):\n",
    "    def __init__(self, input_size=2, output_size=1):\n",
    "        super(logR, self).__init__()\n",
    "        self.logR_model = nn.Linear(input_size, output_size)\n",
    "        \n",
    "    def forward(self, x):\n",
    "        return (torch.sigmoid(self.logR_model(x)))"
   ]
  },
  {
   "cell_type": "code",
   "execution_count": null,
   "metadata": {
    "hidden": true
   },
   "outputs": [],
   "source": [
    "torch.manual_seed(45)\n",
    "\n",
    "# Initiialize datset & model\n",
    "dataset = Data(samples=1000, input_size=3, output_size=1, classes=2)\n",
    "trainloader = DataLoader(dataset=dataset, batch_size=1)\n",
    "logR_model = logR(input_size=3, output_size=1)"
   ]
  },
  {
   "cell_type": "code",
   "execution_count": null,
   "metadata": {
    "hidden": true
   },
   "outputs": [],
   "source": [
    "# Train model\n",
    "\n",
    "def train_model_logR(iter=5):\n",
    "    for epoch in range(iter):\n",
    "        for x, y in trainloader:\n",
    "            yhat = logR_model(x)\n",
    "            loss = criterion(yhat, y.float())\n",
    "            optimizer.zero_grad()\n",
    "            loss.backward()\n",
    "            optimizer.step()\n",
    "            return (loss)\n",
    "\n",
    "criterion = nn.MSELoss()\n",
    "learning_rate = 0.1\n",
    "optimizer = torch.optim.SGD(logR_model.parameters(), lr=learning_rate)\n",
    "train_model_logR(iter=6)"
   ]
  },
  {
   "cell_type": "code",
   "execution_count": null,
   "metadata": {
    "hidden": true
   },
   "outputs": [],
   "source": [
    "# Predict & check accuracy\n",
    "\n",
    "yhat = logR_model(dataset.x)\n",
    "yhat[yhat >= 0.5] = 1\n",
    "yhat[yhat < 0.5] = 0\n",
    "print (f'Accuracy = {(yhat == dataset.y).sum().item()/len(yhat)*100}%')"
   ]
  },
  {
   "cell_type": "code",
   "execution_count": null,
   "metadata": {
    "hidden": true
   },
   "outputs": [],
   "source": [
    "yhat = logR_model(dataset.x)\n",
    "label = yhat > 0.5\n",
    "print(\"The accuracy: \", torch.mean((label == dataset.y.type(torch.ByteTensor)).type(torch.float)))"
   ]
  },
  {
   "cell_type": "markdown",
   "metadata": {
    "hidden": true
   },
   "source": [
    "## Multiclass Classification - using Softmax activation"
   ]
  },
  {
   "cell_type": "code",
   "execution_count": null,
   "metadata": {
    "hidden": true
   },
   "outputs": [],
   "source": [
    "import torch\n",
    "import torch.nn as nn\n",
    "import torchvision.datasets as dsets\n",
    "from torch.utils.data import DataLoader\n",
    "import torchvision.transforms as transforms\n",
    "\n",
    "import matplotlib.pyplot as plt\n",
    "%matplotlib inline\n",
    "\n",
    "from tqdm import tqdm"
   ]
  },
  {
   "cell_type": "code",
   "execution_count": null,
   "metadata": {
    "hidden": true
   },
   "outputs": [],
   "source": [
    "# Get training & validation data\n",
    "\n",
    "train_dataset = dsets.MNIST(root='./data', train=True, download=True, transform=transforms.ToTensor())\n",
    "print(\"Print the training dataset:\\n \", train_dataset)\n",
    "\n",
    "# Create and print the validating dataset\n",
    "\n",
    "validation_dataset = dsets.MNIST(root='./data', train=False, download=True, transform=transforms.ToTensor())\n",
    "print(\"Print the validating dataset:\\n \", validation_dataset)"
   ]
  },
  {
   "cell_type": "code",
   "execution_count": null,
   "metadata": {
    "hidden": true
   },
   "outputs": [],
   "source": [
    "for i in range (1,6):\n",
    "    plt.subplot(1,5,i)\n",
    "    plt.imshow(train_dataset[i-1][0].view(28,28))\n",
    "    plt.title(train_dataset[i-1][1])"
   ]
  },
  {
   "cell_type": "code",
   "execution_count": null,
   "metadata": {
    "hidden": true
   },
   "outputs": [],
   "source": [
    "class Softmax(nn.Module):\n",
    "    def __init__(self, input_size=None, output_size=None):\n",
    "        super(Softmax, self).__init__()\n",
    "        self.softmax_model = nn.Linear(input_size, output_size)\n",
    "        \n",
    "    def forward(self, x):\n",
    "        return (self.softmax_model(x))"
   ]
  },
  {
   "cell_type": "code",
   "execution_count": null,
   "metadata": {
    "hidden": true
   },
   "outputs": [],
   "source": [
    "softmax_model = Softmax(input_size=784, output_size=10)\n",
    "learning_rate = 0.01\n",
    "optimizer = torch.optim.SGD(softmax_model.parameters(), lr=learning_rate)\n",
    "criterion = nn.CrossEntropyLoss()\n",
    "\n",
    "train_loader = DataLoader(dataset=train_dataset, batch_size=32)\n",
    "validation_loader = DataLoader(dataset=validation_dataset, batch_size=100)"
   ]
  },
  {
   "cell_type": "code",
   "execution_count": null,
   "metadata": {
    "hidden": true
   },
   "outputs": [],
   "source": [
    "# Train & Validate\n",
    "\n",
    "def train_val_model_softmax(epochs=5):\n",
    "    for epoch in tqdm(range(epochs)):\n",
    "        # Train model\n",
    "        total = 0\n",
    "        for x_train, y_train in train_loader:\n",
    "            z_train_pred = softmax_model(x_train.view(-1,784))\n",
    "            loss = criterion(z_train_pred, y_train)\n",
    "            loss.backward()\n",
    "            optimizer.step()\n",
    "            optimizer.zero_grad()\n",
    "#             training_loss.append(loss.data.item())\n",
    "    \n",
    "        # Predict & validate model\n",
    "        correct = 0\n",
    "        for x_test, y_test in validation_loader:\n",
    "            z = softmax_model(x_test.view(-1, 28 * 28))\n",
    "            _, yhat = torch.max(z.data, 1)\n",
    "            correct += (yhat == y_test).sum().item()\n",
    "        accuracy = correct / test_samples\n",
    "        validation_loss.append(loss.data)\n",
    "        validation_accuracy.append(accuracy)\n",
    "        \n",
    "epochs=10\n",
    "test_samples = len(validation_dataset)   \n",
    "training_loss = []\n",
    "validation_loss = []\n",
    "validation_accuracy = []\n",
    "\n",
    "train_val_model_softmax(epochs=10)"
   ]
  },
  {
   "cell_type": "code",
   "execution_count": null,
   "metadata": {
    "hidden": true
   },
   "outputs": [],
   "source": [
    "plt.figure(figsize=(7,4))\n",
    "ax1 = plt.subplot(1,1,1)\n",
    "ax1.plot(validation_accuracy, linewidth=3)\n",
    "ax1.set_xlabel('epochs', fontsize=18)\n",
    "ax1.set_ylabel('accuracy', fontsize=18)\n",
    "ax1.legend(['val accuracy'], loc=3)\n",
    "ax2 = ax1.twinx()\n",
    "ax2.plot(validation_loss, 'r--')\n",
    "ax2.set_ylabel('loss', fontsize=18)\n",
    "ax2.legend(['val loss'], loc=2)\n",
    "plt.show()"
   ]
  },
  {
   "cell_type": "code",
   "execution_count": null,
   "metadata": {
    "hidden": true
   },
   "outputs": [],
   "source": [
    "idx = 99\n",
    "\n",
    "img = validation_loader.dataset[idx][0].view(-1,28)\n",
    "label = validation_loader.dataset[idx][1]\n",
    "pred = softmax_model(validation_loader.dataset[idx][0].view(-1,28*28))\n",
    "plt.imshow(img)\n",
    "plt.title(f'label={label}   Prediction={pred.argmax().item()}', fontsize=10)\n",
    "plt.show()"
   ]
  },
  {
   "cell_type": "markdown",
   "metadata": {
    "heading_collapsed": true
   },
   "source": [
    "# Neural Networks"
   ]
  },
  {
   "cell_type": "code",
   "execution_count": null,
   "metadata": {
    "hidden": true
   },
   "outputs": [],
   "source": [
    "import torch\n",
    "from torch import nn\n",
    "import torchvision.datasets as dsets\n",
    "from torch.utils.data import DataLoader\n",
    "import torchvision.transforms as transforms\n",
    "import matplotlib.pyplot as plt\n",
    "%matplotlib inline\n",
    "from tqdm import tqdm"
   ]
  },
  {
   "cell_type": "code",
   "execution_count": null,
   "metadata": {
    "hidden": true
   },
   "outputs": [],
   "source": [
    "# Get training & validation data\n",
    "\n",
    "train_dataset = dsets.MNIST(root='./data', train=True, download=True, transform=transforms.ToTensor())\n",
    "print(\"Print the training dataset:\\n \", train_dataset)\n",
    "\n",
    "# Create and print the validating dataset\n",
    "\n",
    "validation_dataset = dsets.MNIST(root='./data', train=False, download=True, transform=transforms.ToTensor())\n",
    "print(\"Print the validating dataset:\\n \", validation_dataset)"
   ]
  },
  {
   "cell_type": "code",
   "execution_count": null,
   "metadata": {
    "hidden": true
   },
   "outputs": [],
   "source": [
    "# Initialize Neural Net with 784 input neurons, 100 hidden neurons & 10 output neurons using Sequential model\n",
    "nn1 = nn.Sequential(\n",
    "    nn.Linear(784, 100),\n",
    "    nn.Sigmoid(),\n",
    "    nn.Linear(100, 10),\n",
    "#     nn.Sigmoid()\n",
    ")"
   ]
  },
  {
   "cell_type": "code",
   "execution_count": null,
   "metadata": {
    "hidden": true
   },
   "outputs": [],
   "source": [
    "class NN(nn.Module):\n",
    "    def __init__(self, input_size=None, hlayer1_size=None, output_size=None):\n",
    "        super(NN, self).__init__()\n",
    "        self.linear1 = nn.Linear(input_size, hlayer1_size)\n",
    "        self.linear2 = nn.Linear(hlayer1_size, output_size)\n",
    "    \n",
    "    def forward(self,x):\n",
    "        x = torch.sigmoid(self.linear1(x))\n",
    "        x = self.linear2(x)\n",
    "        return (x)"
   ]
  },
  {
   "cell_type": "code",
   "execution_count": null,
   "metadata": {
    "hidden": true
   },
   "outputs": [],
   "source": [
    "# Initialize Neural Net with 784 input neurons, 100 hidden neurons & 10 output neurons\n",
    "nn1 = NN(input_size=28*28, hlayer1_size=100, output_size=10)\n",
    "\n",
    "learning_rate = 0.01\n",
    "optimizer = torch.optim.SGD(nn1.parameters(), lr=learning_rate)\n",
    "criterion = nn.CrossEntropyLoss()\n",
    "\n",
    "train_loader = DataLoader(dataset=train_dataset, batch_size=32)\n",
    "validation_loader = DataLoader(dataset=validation_dataset, batch_size=100)"
   ]
  },
  {
   "cell_type": "code",
   "execution_count": null,
   "metadata": {
    "hidden": true
   },
   "outputs": [],
   "source": [
    "# Train & Validate\n",
    "\n",
    "def train_val_model_nn1(epochs=5):\n",
    "    for epoch in tqdm(range(epochs)):\n",
    "        # Train model\n",
    "        total = 0\n",
    "        for x_train, y_train in train_loader:\n",
    "            z_train_pred = nn1(x_train.view(-1,784))\n",
    "            loss = criterion(z_train_pred, y_train)\n",
    "            loss.backward()\n",
    "            optimizer.step()\n",
    "            optimizer.zero_grad()\n",
    "            training_loss.append(loss.data.item())\n",
    "    \n",
    "        # Predict & validate model\n",
    "        correct = 0\n",
    "        for x_test, y_test in validation_loader:\n",
    "            z = nn1(x_test.view(-1, 28 * 28))\n",
    "            _, yhat = torch.max(z.data, 1)\n",
    "            correct += (yhat == y_test).sum().item()\n",
    "        accuracy = correct / test_samples\n",
    "        validation_loss.append(loss.data)\n",
    "        validation_accuracy.append(accuracy)\n",
    "        \n",
    "epochs=10\n",
    "test_samples = len(validation_dataset)   \n",
    "training_loss = []\n",
    "validation_loss = []\n",
    "validation_accuracy = []\n",
    "\n",
    "train_val_model_nn1(epochs=10)"
   ]
  },
  {
   "cell_type": "code",
   "execution_count": null,
   "metadata": {
    "hidden": true
   },
   "outputs": [],
   "source": [
    "plt.figure(figsize=(7,4))\n",
    "ax1 = plt.subplot(1,1,1)\n",
    "ax1.plot(validation_accuracy, linewidth=3)\n",
    "ax1.set_xlabel('epochs', fontsize=18)\n",
    "ax1.set_ylabel('accuracy', fontsize=18)\n",
    "ax1.legend(['val accuracy'], loc=3)\n",
    "ax2 = ax1.twinx()\n",
    "ax2.plot(validation_loss, 'r--')\n",
    "ax2.set_ylabel('loss', fontsize=18)\n",
    "ax2.legend(['val loss'], loc=2)\n",
    "plt.show()"
   ]
  },
  {
   "cell_type": "markdown",
   "metadata": {
    "heading_collapsed": true
   },
   "source": [
    "# Feed Forward Network - Without Dropout"
   ]
  },
  {
   "cell_type": "code",
   "execution_count": null,
   "metadata": {
    "hidden": true
   },
   "outputs": [],
   "source": [
    "import torch\n",
    "from torch import nn\n",
    "import torch.nn.functional as F\n",
    "from torch.utils.data import Dataset, DataLoader\n",
    "from tqdm import tqdm"
   ]
  },
  {
   "cell_type": "code",
   "execution_count": null,
   "metadata": {
    "hidden": true
   },
   "outputs": [],
   "source": [
    "class Data(Dataset):\n",
    "    \n",
    "    #  modified from: http://cs231n.github.io/neural-networks-case-study/\n",
    "    # Constructor\n",
    "    def __init__(self, K=3, N=500):\n",
    "        D = 2\n",
    "        X = np.zeros((N * K, D)) # data matrix (each row = single example)\n",
    "        y = np.zeros(N * K, dtype='uint8') # class labels\n",
    "        for j in range(K):\n",
    "          ix = range(N * j, N * (j + 1))\n",
    "          r = np.linspace(0.0, 1, N) # radius\n",
    "          t = np.linspace(j * 4, (j + 1) * 4, N) + np.random.randn(N) * 0.2 # theta\n",
    "          X[ix] = np.c_[r * np.sin(t), r*np.cos(t)]\n",
    "          y[ix] = j\n",
    "        self.y = torch.from_numpy(y).type(torch.LongTensor)\n",
    "        self.x = torch.from_numpy(X).type(torch.FloatTensor)\n",
    "        self.len = y.shape[0]\n",
    "    \n",
    "    # Getter\n",
    "    def __getitem__(self, index):    \n",
    "        return self.x[index], self.y[index]\n",
    "    \n",
    "    # Get Length\n",
    "    def __len__(self):\n",
    "        return self.len"
   ]
  },
  {
   "cell_type": "code",
   "execution_count": null,
   "metadata": {
    "hidden": true
   },
   "outputs": [],
   "source": [
    "class NN(nn.Module):\n",
    "    # constructor\n",
    "    def __init__(self, Layers):\n",
    "        super(NN, self).__init__()\n",
    "        self.hidden = nn.ModuleList()\n",
    "        for input_size, output_size in zip(Layers, Layers[1:]):\n",
    "            self.hidden.append(nn.Linear(input_size, output_size))\n",
    "            \n",
    "    # Predict\n",
    "    def forward(self, x):\n",
    "        nn_len = len(self.hidden)\n",
    "        for i, layer in enumerate(self.hidden):\n",
    "            if (i < nn_len-1):\n",
    "                x = F.relu(layer(x))\n",
    "            else:\n",
    "                x = layer(x)\n",
    "        return (x)"
   ]
  },
  {
   "cell_type": "code",
   "execution_count": null,
   "metadata": {
    "hidden": true
   },
   "outputs": [],
   "source": [
    "torch.manual_seed(45)\n",
    "\n",
    "dataset = Data()\n",
    "Layers = [2, 50, 3]\n",
    "\n",
    "in_size = Layers[0]\n",
    "n_hidden = Layers[1]\n",
    "out_size = Layers[2]\n",
    "\n",
    "nn_m = NN(Layers)\n",
    "model = nn_m\n",
    "learning_rate = 0.01\n",
    "optimizer = torch.optim.SGD(model.parameters(), lr=learning_rate)\n",
    "criterion = nn.CrossEntropyLoss()\n",
    "train_loader = DataLoader(dataset=dataset, batch_size=20)"
   ]
  },
  {
   "cell_type": "code",
   "execution_count": null,
   "metadata": {
    "hidden": true
   },
   "outputs": [],
   "source": [
    "# The function to calculate the accuracy\n",
    "def accuracy(model, dataset):\n",
    "    _, yhat = torch.max(model(dataset.x), 1)\n",
    "    return (yhat == dataset.y).numpy().mean()\n",
    "\n",
    "# Train & Validate\n",
    "def train_val_model(dataset=None, train_loader=None, model=None, optimizier=None, criterion=None, epochs=5):\n",
    "    training_loss = []\n",
    "    training_accuracy = []\n",
    "    for epoch in tqdm(range(epochs)):\n",
    "        # Train model\n",
    "        for x_train, y_train in train_loader:\n",
    "            z_train_pred = model(x_train)\n",
    "            loss = criterion(z_train_pred, y_train)\n",
    "            loss.backward()\n",
    "            optimizer.step()\n",
    "            optimizer.zero_grad()\n",
    "            training_loss.append(loss.item())\n",
    "        training_accuracy.append(accuracy(model, dataset))\n",
    "    return (training_accuracy, training_loss)\n",
    "\n",
    "training_accuracy, training_loss = train_val_model(dataset=dataset, train_loader=train_loader, model=model, optimizier=optimizer, \n",
    "                                criterion=criterion, epochs=100)\n",
    "\n",
    "plt.figure(figsize=(10,5))\n",
    "plt.subplot(1,2,1)\n",
    "plt.plot(training_accuracy, linewidth=3)\n",
    "plt.title ('Training Accuracy')\n",
    "plt.ylabel('Accuracy')\n",
    "plt.subplot(1,2,2)\n",
    "plt.plot(training_loss[::500], 'r--', linewidth=2)\n",
    "plt.title ('Training Loss')\n",
    "plt.ylabel('Loss')\n",
    "plt.show()"
   ]
  },
  {
   "cell_type": "markdown",
   "metadata": {
    "heading_collapsed": true
   },
   "source": [
    "# Feed Forward Network - With Dropout"
   ]
  },
  {
   "cell_type": "code",
   "execution_count": null,
   "metadata": {
    "hidden": true
   },
   "outputs": [],
   "source": [
    "import torch\n",
    "import torch.nn as nn\n",
    "from torch.utils.data import Dataset, DataLoader, TensorDataset\n",
    "from torch.backends import cudnn\n",
    "torch.manual_seed(45)\n",
    "device = torch.device('cuda' if torch.cuda.is_available() else 'cpu')\n",
    "if device.type == 'cuda':\n",
    "    torch.cuda.manual_seed(45)\n",
    "    cudnn.benchmark = True\n",
    "\n",
    "import numpy as np\n",
    "np.random.seed(45)\n",
    "    \n",
    "from sklearn.model_selection import train_test_split\n",
    "\n",
    "import matplotlib.pyplot as plt\n",
    "%matplotlib inline\n",
    "\n",
    "from tqdm import tqdm"
   ]
  },
  {
   "cell_type": "code",
   "execution_count": null,
   "metadata": {
    "hidden": true
   },
   "outputs": [],
   "source": [
    "# Create data class for creating dataset object\n",
    "\n",
    "class Data(Dataset):\n",
    "    \n",
    "    # Constructor\n",
    "    def __init__(self, N_SAMPLES=1000, noise_std=0.15, train=True):\n",
    "        a = np.matrix([-1, 1, 2, 1, 1, -3, 1]).T\n",
    "        self.x = np.matrix(np.random.rand(N_SAMPLES, 2))\n",
    "        self.f = np.array(a[0] + (self.x) * a[1:3] + np.multiply(self.x[:, 0], self.x[:, 1]) * a[4] + np.multiply(self.x, self.x) * a[5:7]).flatten()\n",
    "        self.a = a\n",
    "       \n",
    "        self.y = np.zeros(N_SAMPLES)\n",
    "        self.y[self.f > 0] = 1\n",
    "        self.y = torch.from_numpy(self.y).type(torch.LongTensor)\n",
    "        self.x = torch.from_numpy(self.x).type(torch.FloatTensor)\n",
    "        self.x = self.x + noise_std * torch.randn(self.x.size())\n",
    "        self.f = torch.from_numpy(self.f)\n",
    "        self.a = a\n",
    "        if train == True:\n",
    "            torch.manual_seed(1)\n",
    "            self.x = self.x + noise_std * torch.randn(self.x.size())\n",
    "            torch.manual_seed(0)\n",
    "        \n",
    "    # Getter        \n",
    "    def __getitem__(self, index):    \n",
    "        return self.x[index], self.y[index]\n",
    "    \n",
    "    # Get Length\n",
    "    def __len__(self):\n",
    "        return self.len\n",
    "    \n",
    "    # Make a multidimension ploynomial function\n",
    "    def multi_dim_poly(self, x):\n",
    "        x = np.matrix(x)\n",
    "        out = np.array(self.a[0] + (x) * self.a[1:3] + np.multiply(x[:, 0], x[:, 1]) * self.a[4] + np.multiply(x, x) * self.a[5:7])\n",
    "        out = np.array(out)\n",
    "        return out\n",
    "    \n",
    "# Cerate dataset\n",
    "dataset = Data()\n",
    "\n",
    "# Split into train & validation datasets\n",
    "x_train, x_test, y_train, y_test = train_test_split(dataset.x.numpy(), dataset.y.numpy(), test_size=0.2,\n",
    "                                                   random_state=42)\n",
    "\n",
    "# Switch back from numpy to Pytorch tensor & dataset\n",
    "x_train_tensor = torch.tensor(x_train)\n",
    "x_test_tensor= torch.tensor(x_test)\n",
    "y_train_tensor = torch.tensor(y_train)\n",
    "y_test_tensor = torch.tensor(y_test)\n",
    "\n",
    "train_dataset = TensorDataset(x_train_tensor, y_train_tensor)\n",
    "test_dataset = TensorDataset(x_test_tensor, y_test_tensor)\n",
    "\n",
    "# Create dataloaders\n",
    "batch_size = 32\n",
    "train_loader = DataLoader(train_dataset, batch_size=batch_size)\n",
    "test_loader = DataLoader(test_dataset, batch_size=batch_size)\n",
    "\n",
    "x = train_dataset[:][0]\n",
    "y = train_dataset[:][1]\n",
    "\n",
    "x_min, x_max = x[:, 0].min(), x[:, 0].max()\n",
    "y_min, y_max = x[:, 1].min(), x[:, 1].max() \n",
    "xx, yy = np.meshgrid(np.arange(x_min, x_max, 0.02), np.arange(y_min, y_max, 0.02))\n",
    "\n",
    "Z = dataset.multi_dim_poly(np.c_[xx.ravel(), yy.ravel()]).flatten()\n",
    "f = np.zeros(Z.shape)\n",
    "f[Z > 0] = 1\n",
    "f = f.reshape(xx.shape)\n",
    "\n",
    "plt.figure(figsize=(10,5))\n",
    "plt.plot(x[y == 0, 0].numpy(), x[y == 0,1].numpy(), 'bo', label='y=0')\n",
    "plt.plot(x[y == 1, 0].numpy(), x[y == 1,1].numpy(), 'ro', label='y=1')\n",
    "plt.contour(xx, yy, f,cmap=plt.cm.Paired)\n",
    "\n",
    "plt.show()"
   ]
  },
  {
   "cell_type": "code",
   "execution_count": null,
   "metadata": {
    "hidden": true
   },
   "outputs": [],
   "source": [
    "# Hyper-parameters \n",
    "input_size = 2\n",
    "hidden_size = 300 \n",
    "num_classes = 2\n",
    "dropout = 0.5\n",
    "num_epochs = 100\n",
    "batch_size = 64\n",
    "learning_rate = 0.01\n",
    "\n",
    "# Create model class - default weight intialization\n",
    "class NN(nn.Module):\n",
    "    def __init__(self, input_size, hidden_size, num_classes, p=0):\n",
    "        super(NN, self).__init__()\n",
    "        self.l1 = nn.Linear(input_size, hidden_size)\n",
    "        self.l2 = nn.Linear(hidden_size, hidden_size)\n",
    "        self.l3 = nn.Linear(hidden_size, num_classes)\n",
    "        self.drop = nn.Dropout(p=p)\n",
    "        self.act = nn.ReLU()\n",
    "        \n",
    "    def forward(self, x):\n",
    "        out = self.l1(x)\n",
    "        out = self.drop(out)\n",
    "        out = self.act(out)\n",
    "        out = self.l2(out)\n",
    "        out = self.drop(out)\n",
    "        out = self.act(out)\n",
    "        out = self.l3(out)\n",
    "        return (out)\n",
    "\n",
    "# Create model class - Xavier intialization   \n",
    "class NN_X(nn.Module):\n",
    "    def __init__(self, input_size, hidden_size, num_classes, p=0):\n",
    "        super(NN_X, self).__init__()\n",
    "        self.l1 = nn.Linear(input_size, hidden_size)\n",
    "        self.xavier = torch.nn.init.xavier_uniform_(self.l1.weight)\n",
    "        self.l2 = nn.Linear(hidden_size, hidden_size)\n",
    "        self.l3 = nn.Linear(hidden_size, num_classes)\n",
    "        self.drop = nn.Dropout(p=p)\n",
    "        self.act = nn.Tanh()\n",
    "        \n",
    "    def forward(self, x):\n",
    "        out = self.l1(x)\n",
    "        out = self.drop(out)\n",
    "        out = self.act(out)\n",
    "        out = self.l2(out)\n",
    "        out = self.drop(out)\n",
    "        out = self.act(out)\n",
    "        out = self.l3(out)\n",
    "        return (out)\n",
    "    \n",
    "# Create model class - Xavier intialization   \n",
    "class NN_HE(nn.Module):\n",
    "    def __init__(self, input_size, hidden_size, num_classes, p=0):\n",
    "        super(NN_HE, self).__init__()\n",
    "        self.l1 = nn.Linear(input_size, hidden_size)\n",
    "        self.he = torch.nn.init.kaiming_uniform_(self.l1.weight, nonlinearity='relu')\n",
    "        self.l2 = nn.Linear(hidden_size, hidden_size)\n",
    "        self.l3 = nn.Linear(hidden_size, num_classes)\n",
    "        self.drop = nn.Dropout(p=p)\n",
    "        self.act = nn.ReLU()\n",
    "        \n",
    "    def forward(self, x):\n",
    "        out = self.l1(x)\n",
    "        out = self.drop(out)\n",
    "        out = self.act(out)\n",
    "        out = self.l2(out)\n",
    "        out = self.drop(out)\n",
    "        out = self.act(out)\n",
    "        out = self.l3(out)\n",
    "        return (out)    \n",
    "    \n",
    "# Instantiate model\n",
    "# model = NN(input_size, hidden_size, num_classes, p=dropout).to(device)\n",
    "model = NN_X(input_size, hidden_size, num_classes, p=dropout).to(device)\n",
    "# model = NN_HE(input_size, hidden_size, num_classes, p=dropout).to(device)\n",
    "\n",
    "# Define Loss & Optimzier\n",
    "criterion = nn.CrossEntropyLoss()\n",
    "# optimizer = torch.optim.Adam(model.parameters(), lr=learning_rate)\n",
    "optimizer = torch.optim.SGD(model.parameters(), lr=learning_rate)"
   ]
  },
  {
   "cell_type": "code",
   "execution_count": null,
   "metadata": {
    "hidden": true
   },
   "outputs": [],
   "source": [
    "# Function to train the model & compute training loss/accuracy\n",
    "def train_model():\n",
    "    n_correct = 0\n",
    "    train_accuracy = []\n",
    "    train_loss = []\n",
    "    total_samples = 0\n",
    "    for epoch in tqdm(range(num_epochs)):\n",
    "        for i, (x_train, y_train) in enumerate(train_loader):\n",
    "            x_train = x_train.to(device)\n",
    "            y_train = y_train.to(device)\n",
    "            # Forward pass\n",
    "            yhat_train = model(x_train)\n",
    "            loss = criterion(yhat_train, y_train)\n",
    "\n",
    "            # Backward pass and optimize\n",
    "            optimizer.zero_grad()\n",
    "            loss.backward()\n",
    "            optimizer.step()\n",
    "\n",
    "            # Compute accuracy\n",
    "            _, predicted = torch.max(yhat_train.data, 1)\n",
    "            n_correct += (predicted == y_train).sum().item()\n",
    "            total_samples+=len(y_train)\n",
    "            \n",
    "        # Append loss & accuracy after each epoch\n",
    "        train_loss.append(loss.item())\n",
    "        train_accuracy.append(n_correct/total_samples)\n",
    "    return(train_accuracy, train_loss)\n",
    "\n",
    "# Train the model\n",
    "train_accuracy, train_loss = train_model()\n",
    "\n",
    "# Plot training accuracy & loss\n",
    "plt.figure(figsize=(10,5))\n",
    "plt.subplot(1,2,1)\n",
    "plt.plot(train_accuracy[::25])\n",
    "plt.title ('Training Accuracy')\n",
    "plt.subplot(1,2,2)\n",
    "plt.plot(train_loss[::25])\n",
    "plt.title ('Training Loss')\n",
    "plt.show()"
   ]
  },
  {
   "cell_type": "code",
   "execution_count": null,
   "metadata": {
    "hidden": true
   },
   "outputs": [],
   "source": [
    "# Function to test the model & compute testing loss/accuracy\n",
    "# In test phase, we don't need to compute gradients (for memory efficiency)\n",
    "def test_model():\n",
    "    with torch.no_grad():\n",
    "        n_correct = 0\n",
    "        test_accuracy = []\n",
    "        test_loss = []\n",
    "        total_samples = 0\n",
    "        for i, (x_test, y_test) in enumerate(test_loader):\n",
    "            x_test = x_test.to(device)\n",
    "            y_test = y_test.to(device)\n",
    "            yhat_test = model(x_test)\n",
    "            loss = criterion(yhat_test, y_test)\n",
    "            \n",
    "            # Compute accuracy\n",
    "            _, predicted = torch.max(yhat_test.data, 1)\n",
    "            n_correct += (predicted == y_test).sum().item()\n",
    "            total_samples+=len(y_test)\n",
    "            \n",
    "            # Append loss & accuracy after each epoch\n",
    "            test_loss.append(loss.item())\n",
    "            test_accuracy.append(n_correct/total_samples)\n",
    "\n",
    "        return(test_accuracy, test_loss)\n",
    "    \n",
    "# Test the model\n",
    "\n",
    "test_accuracy, test_loss = test_model()\n",
    "\n",
    "# Plot training accuracy & loss\n",
    "plt.figure(figsize=(10,5))\n",
    "plt.subplot(1,2,1)\n",
    "plt.plot(test_accuracy)\n",
    "plt.title ('Testing Accuracy')\n",
    "plt.subplot(1,2,2)\n",
    "plt.plot(test_loss)\n",
    "plt.title ('Testing Loss')\n",
    "plt.show()"
   ]
  },
  {
   "cell_type": "markdown",
   "metadata": {},
   "source": [
    "# CNN"
   ]
  },
  {
   "cell_type": "markdown",
   "metadata": {
    "heading_collapsed": true
   },
   "source": [
    "## Face Capture"
   ]
  },
  {
   "cell_type": "code",
   "execution_count": 1,
   "metadata": {
    "hidden": true
   },
   "outputs": [],
   "source": [
    "################################################################################################################################\n",
    "# Modified code from adarsh1021 \n",
    "# https://github.com/adarsh1021/facedetection/blob/master/detect_face_video.py\n",
    "# ebharucha: 12/7/2020\n",
    "################################################################################################################################\n",
    "import cv2\n",
    "import os\n",
    "from tqdm import tqdm\n",
    "\n",
    "label = input('Enter the face label: ')\n",
    "\n",
    "if not os.path.exists(f'./images/{label}'):\n",
    "    os.makedirs('./images/{label}')\n",
    "\n",
    "# Load the cascade\n",
    "face_cascade = cv2.CascadeClassifier('haarcascade_frontalface_default.xml')\n",
    "\n",
    "# To capture video from webcam. \n",
    "cap = cv2.VideoCapture(1)\n",
    "\n",
    "count = 1\n",
    "\n",
    "while tqdm(True):\n",
    "    # Read the frame\n",
    "    _, img = cap.read()\n",
    "\n",
    "    # Convert to grayscale\n",
    "    # gray = cv2.cvtColor(img, cv2.COLOR_BGR2GRAY)\n",
    "\n",
    "    # Detect the faces\n",
    "    # faces = face_cascade.detectMultiScale(gray, 1.1, 4)\n",
    "    faces = face_cascade.detectMultiScale(img, 1.1, 4)\n",
    "\n",
    "    # Draw the rectangle around each face & store images\n",
    "    for (x, y, w, h) in faces:\n",
    "        # cv2.rectangle(img, (x, y), (x + w, y + h), (255, 0, 0), 2)\n",
    "        cv2.rectangle(img, (x-30, y-70), (x + w + 20, y + h + 20), (255, 0, 0), 2)\n",
    "        print(x, y, w, h)\n",
    "        # Write image\n",
    "        # cv2.imwrite(f'./images/{label}/{label}_{count}.jpg', gray[y-70:y+h+20,x-30:x+w+20])\n",
    "        cv2.imwrite(f'./images/{label}/{label}_{count}.jpg', img[y-70:y+h+20,x-30:x+w+20])\n",
    "        count += 1\n",
    "        # Display\n",
    "        cv2.imshow('img', img)\n",
    "\n",
    "    # Stop if escape key is pressed or stored images exceed count \n",
    "    k = cv2.waitKey(100) & 0xff\n",
    "    if ((k==27) or (count>100)):\n",
    "        break\n",
    "        \n",
    "# Release the VideoCapture object\n",
    "cap.release()"
   ]
  },
  {
   "cell_type": "markdown",
   "metadata": {
    "heading_collapsed": true
   },
   "source": [
    "## Data Prep"
   ]
  },
  {
   "cell_type": "code",
   "execution_count": 2,
   "metadata": {
    "hidden": true
   },
   "outputs": [],
   "source": [
    "################################################################################################################################\n",
    "# ebharucha: 12/7/2020\n",
    "################################################################################################################################\n",
    "\n",
    "# Import dependencies\n",
    "import os\n",
    "from PIL import Image\n",
    "import matplotlib.pyplot as plt\n",
    "import numpy as np\n",
    "import pandas as pd\n",
    "from sklearn.model_selection import train_test_split\n",
    "import torch\n",
    "import torchvision\n",
    "from torch.utils.data import Dataset, DataLoader\n",
    "import torchvision.transforms as transforms\n",
    "from sklearn.model_selection import train_test_split\n",
    "\n",
    "# Define class to create Train & Test data\n",
    "class TrainTest():\n",
    "    def __init__(self, img_dir):\n",
    "        self.classes = []\n",
    "        imgpath = []\n",
    "        label = []\n",
    "        dirs = [x[0] for x in os.walk(img_dir)]\n",
    "        for d in dirs[1:]:\n",
    "            class_ = d.split('/')[-1]\n",
    "            self.classes.append(class_)\n",
    "            for f in os.listdir(d):\n",
    "                imgpath.append(os.path.join(f'{d}/{f}'))\n",
    "                label.append(self.classes.index(class_))\n",
    "        self.df = pd.DataFrame()\n",
    "        self.df['imgpath'] = imgpath\n",
    "        self.df['label'] = label\n",
    "        self.X_train, self.X_test, self.y_train, self.y_test = self.create_train_test_data(self.df)\n",
    "    \n",
    "    def create_train_test_data(self, df):\n",
    "        X = df.imgpath\n",
    "        y = df.label\n",
    "        X_train, X_test, y_train, y_test = train_test_split(X, y, test_size=0.25, stratify=y, random_state=42)\n",
    "        return(X_train, X_test, y_train, y_test)\n",
    "\n",
    "# Define dataset class\n",
    "class DatasetImg(Dataset):\n",
    "    def __init__(self, X, y, transform=None):\n",
    "        self.X = X\n",
    "        self.y = y\n",
    "        self.transform = transform\n",
    "\n",
    "    def __getitem__(self, idx):\n",
    "        X_arr = Image.open(self.X.iloc[idx])\n",
    "        y = self.y.iloc[idx]\n",
    "        if (self.transform):\n",
    "            X_arr = self.transform(X_arr)\n",
    "        return (X_arr, y)\n",
    "    \n",
    "    def __len__(self):\n",
    "        return(self.X.shape[0])\n",
    "\n",
    "# Define class to display sample images from dataloader\n",
    "class imdisplay():\n",
    "    def __init__(self, dataloader):\n",
    "        dataiter = iter(dataloader)\n",
    "        images, labels = dataiter.next()\n",
    "        self.imshow(torchvision.utils.make_grid(images))\n",
    "\n",
    "    def imshow(self, img):\n",
    "        plt.figure(figsize=(15,7))\n",
    "        img = img / 2 + 0.5  # unnormalize\n",
    "        npimg = img.numpy()\n",
    "        plt.imshow(np.transpose(npimg, (1, 2, 0)))\n",
    "        plt.show()\n",
    "\n",
    "# Initialize parameters\n",
    "img_dir = './data/images/'\n",
    "img_size = 128\n",
    "batch_size = 10\n",
    "img_transform = transforms.Compose([transforms.Resize(img_size), \n",
    "                                    transforms.RandomCrop(128),\n",
    "                                    transforms.ToTensor(),\n",
    "                                    transforms.Normalize(mean=[0.5], std=[0.5])])                                    \n",
    "\n",
    "# Create Train, Test split\n",
    "traintest = TrainTest(img_dir)\n",
    "\n",
    "# Create Train, Test datasets & dataloaders\n",
    "dataset_train = DatasetImg(traintest.X_train, traintest.y_train, img_transform)\n",
    "dataloader_train = DataLoader(dataset=dataset_train, batch_size=batch_size)\n",
    "dataset_test = DatasetImg(traintest.X_test, traintest.y_test, img_transform)\n",
    "dataloader_test = DataLoader(dataset=dataset_test, batch_size=batch_size)"
   ]
  },
  {
   "cell_type": "markdown",
   "metadata": {
    "heading_collapsed": true
   },
   "source": [
    "## CNN "
   ]
  },
  {
   "cell_type": "code",
   "execution_count": null,
   "metadata": {
    "hidden": true
   },
   "outputs": [],
   "source": [
    "# Import dependencies\n",
    "import torch\n",
    "import torch.nn as nn\n",
    "import torch.nn.functional as F\n",
    "from tqdm import tqdm\n",
    "import prep_data\n",
    "import matplotlib.pyplot as plt\n",
    "\n",
    "# Define CNN class\n",
    "class ConvNet(nn.Module):\n",
    "    def __init__(self):\n",
    "        super(ConvNet, self).__init__()\n",
    "        self.conv1 = nn.Conv2d(1, 32, 5)\n",
    "        self.pool = nn.MaxPool2d(2, 2)\n",
    "        self.conv2 = nn.Conv2d(32, 64, 3)\n",
    "        self.conv3 = nn.Conv2d(64, 128, 3)\n",
    "        self.conv4 = nn.Conv2d(128, 256, 3)\n",
    "        self.conv5 = nn.Conv2d(256, 512, 1)\n",
    "        self.fc1 = nn.Linear(512 * 3 * 3, 1024)\n",
    "        self.fc2 = nn.Linear(1024, 136)\n",
    "        self.fc3 = nn.Linear(136, 5)\n",
    "\n",
    "    def forward(self, x):\n",
    "        # -> n, 3, 32, 32\n",
    "        x = self.pool(F.relu(self.conv1(x)))  \n",
    "        x = self.pool(F.relu(self.conv2(x)))\n",
    "        x = self.pool(F.relu(self.conv3(x)))  \n",
    "        x = self.pool(F.relu(self.conv4(x)))\n",
    "        x = self.pool(F.relu(self.conv5(x)))\n",
    "        x = x.view(-1, 512 * 3 * 3)\n",
    "        x = F.relu(self.fc1(x))               \n",
    "        x = F.relu(self.fc2(x))               \n",
    "        x = self.fc3(x)                       \n",
    "        return x\n",
    "\n",
    "# Function to plot Accuracy & Loss\n",
    "def plot_acc_loss(train_test, accuracy, loss_):\n",
    "    plt.figure(figsize=(10,5))\n",
    "    plt.subplot(1,2,1)\n",
    "    plt.plot(accuracy)\n",
    "    plt.title (f'{train_test} Accuracy')\n",
    "    plt.subplot(1,2,2)\n",
    "    plt.plot(loss_)\n",
    "    plt.title (f'{train_test} Loss')\n",
    "    plt.show()\n",
    "\n",
    "# Function to train model\n",
    "def train_model(model, num_epochs, dataloader, device, criterion, optimizer):\n",
    "    n_correct = 0\n",
    "    train_accuracy = []\n",
    "    train_loss = []\n",
    "    total_samples = 0\n",
    "    for epoch in range(num_epochs):\n",
    "        for i, (X_train, y_train) in tqdm(enumerate(dataloader)):\n",
    "            X_train = X_train.to(device)\n",
    "            y_train = y_train.to(device)\n",
    "            # Forward pass\n",
    "            yhat_train = model(X_train)\n",
    "            loss = criterion(yhat_train, y_train)\n",
    "            # Backward and optimize\n",
    "            optimizer.zero_grad()\n",
    "            loss.backward()\n",
    "            optimizer.step()\n",
    "            # Compute accuracy\n",
    "            _, predicted = torch.max(yhat_train.data, 1)\n",
    "            n_correct += (predicted == y_train).sum().item()\n",
    "            total_samples+=len(y_train)\n",
    "        \n",
    "        # Loss & accuracy per epoch\n",
    "        train_loss.append(loss.item())\n",
    "        train_accuracy.append(n_correct/total_samples)        \n",
    "        print(f'Epoch {epoch+1}/{num_epochs} => Training Loss: {loss.item():.4f}')\n",
    "    \n",
    "    plot_acc_loss(train_test='Train', accuracy=train_accuracy, loss_=train_loss)\n",
    "\n",
    "    return (model)\n",
    "\n",
    "# Function to test model\n",
    "def test_model(model, dataloader, device, criterion):\n",
    "    with torch.no_grad():\n",
    "        n_correct = 0\n",
    "        test_accuracy = []\n",
    "        test_loss = []\n",
    "        total_samples = 0\n",
    "        for i, (X_test, y_test) in enumerate(dataloader):\n",
    "            X_test = X_test.to(device)\n",
    "            y_test = y_test.to(device)\n",
    "            yhat_test = model(X_test)\n",
    "            loss = criterion(yhat_test, y_test)\n",
    "            \n",
    "            # Compute accuracy\n",
    "            _, predicted = torch.max(yhat_test.data, 1)\n",
    "            n_correct += (predicted == y_test).sum().item()\n",
    "            total_samples+=len(y_test)\n",
    "            \n",
    "            # Append loss & accuracy\n",
    "            test_loss.append(loss.item())\n",
    "            test_accuracy.append(n_correct / total_samples)\n",
    "            \n",
    "        # Print Test Accuracy & Loss\n",
    "        print (f'Test Accuracy: {test_accuracy[-1]:.4f}')\n",
    "        print (f'Test Loss: {test_loss[-1]:.4f}')\n",
    "\n",
    "    plot_acc_loss(train_test='Test', accuracy=test_accuracy, loss_=test_loss)\n",
    "\n",
    "# Device configuration\n",
    "device = torch.device('cuda' if torch.cuda.is_available() else 'cpu')\n",
    "\n",
    "# Hyper-parameters\n",
    "num_epochs = 3\n",
    "batch_size = 5\n",
    "learning_rate = 0.001\n",
    "\n",
    "# Instantiate model\n",
    "model = ConvNet().to(device)\n",
    "\n",
    "# Define Loss & Optimzier\n",
    "criterion = nn.CrossEntropyLoss()\n",
    "optimizer = torch.optim.Adam(model.parameters(), lr=learning_rate)\n",
    "# # Decay LR by a factor of 0.1 every 7 epochs\n",
    "# exp_lr_scheduler = torch.optim.lr_scheduler.StepLR(optimizer, step_size=7, gamma=0.1)\n",
    "\n",
    "# Train model        \n",
    "model = train_model(model, num_epochs, prep_data.dataloader_train, device, criterion, optimizer)\n",
    "# Test model\n",
    "test_model(model, prep_data.dataloader_test, device, criterion)\n",
    "\n",
    "MODELPATH = './models/cnn1.pt'\n",
    "torch.save(model, MODELPATH)"
   ]
  },
  {
   "cell_type": "markdown",
   "metadata": {
    "heading_collapsed": true
   },
   "source": [
    "## CNN - Transfer Learning"
   ]
  },
  {
   "cell_type": "code",
   "execution_count": 52,
   "metadata": {
    "hidden": true
   },
   "outputs": [
    {
     "name": "stderr",
     "output_type": "stream",
     "text": [
      " 20%|████████████████▊                                                                   | 1/5 [00:03<00:12,  3.13s/it]"
     ]
    },
    {
     "name": "stdout",
     "output_type": "stream",
     "text": [
      "Epoch 1/5 => Training Loss: 0.1195\n"
     ]
    },
    {
     "name": "stderr",
     "output_type": "stream",
     "text": [
      "\r",
      " 40%|█████████████████████████████████▌                                                  | 2/5 [00:05<00:08,  3.00s/it]"
     ]
    },
    {
     "name": "stdout",
     "output_type": "stream",
     "text": [
      "Epoch 2/5 => Training Loss: 0.0196\n"
     ]
    },
    {
     "name": "stderr",
     "output_type": "stream",
     "text": [
      "\r",
      " 60%|██████████████████████████████████████████████████▍                                 | 3/5 [00:08<00:05,  2.91s/it]"
     ]
    },
    {
     "name": "stdout",
     "output_type": "stream",
     "text": [
      "Epoch 3/5 => Training Loss: 0.0769\n"
     ]
    },
    {
     "name": "stderr",
     "output_type": "stream",
     "text": [
      "\r",
      " 80%|███████████████████████████████████████████████████████████████████▏                | 4/5 [00:11<00:02,  2.85s/it]"
     ]
    },
    {
     "name": "stdout",
     "output_type": "stream",
     "text": [
      "Epoch 4/5 => Training Loss: 0.0255\n"
     ]
    },
    {
     "name": "stderr",
     "output_type": "stream",
     "text": [
      "100%|████████████████████████████████████████████████████████████████████████████████████| 5/5 [00:13<00:00,  2.80s/it]"
     ]
    },
    {
     "name": "stdout",
     "output_type": "stream",
     "text": [
      "Epoch 5/5 => Training Loss: 0.0176\n"
     ]
    },
    {
     "name": "stderr",
     "output_type": "stream",
     "text": [
      "\n"
     ]
    },
    {
     "data": {
      "image/png": "[encoded data removed]",
      "text/plain": [
       "<Figure size 720x360 with 2 Axes>"
      ]
     },
     "metadata": {
      "needs_background": "light"
     },
     "output_type": "display_data"
    },
    {
     "name": "stdout",
     "output_type": "stream",
     "text": [
      "Test Accuracy: 1.0000\n",
      "Test Loss: 0.0089\n"
     ]
    },
    {
     "data": {
      "image/png": "[encoded data removed]",
      "text/plain": [
       "<Figure size 720x360 with 2 Axes>"
      ]
     },
     "metadata": {
      "needs_background": "light"
     },
     "output_type": "display_data"
    }
   ],
   "source": [
    "# Import dependencies\n",
    "import torch\n",
    "import torchvision\n",
    "import torch.nn as nn\n",
    "from tqdm import tqdm\n",
    "# import prep_data\n",
    "import matplotlib.pyplot as plt\n",
    "\n",
    "# Function to plot Accuracy & Loss\n",
    "def plot_acc_loss(train_test, accuracy, loss_):\n",
    "    plt.figure(figsize=(10,5))\n",
    "    plt.subplot(1,2,1)\n",
    "    plt.plot(accuracy)\n",
    "    plt.title (f'{train_test} Accuracy')\n",
    "    plt.subplot(1,2,2)\n",
    "    plt.plot(loss_)\n",
    "    plt.title (f'{train_test} Loss')\n",
    "    plt.show()\n",
    "\n",
    "# Function to train model\n",
    "def train_model(model, num_epochs, dataloader, device, criterion, optimizer):\n",
    "    n_correct = 0\n",
    "    train_accuracy = []\n",
    "    train_loss = []\n",
    "    total_samples = 0\n",
    "    for epoch in tqdm(range(num_epochs)):\n",
    "        for i, (X_train, y_train) in enumerate(dataloader):\n",
    "            X_train = X_train.to(device)\n",
    "            y_train = y_train.to(device)\n",
    "            # Forward pass\n",
    "            yhat_train = model(X_train)\n",
    "            loss = criterion(yhat_train, y_train)\n",
    "            # Backward and optimize\n",
    "            optimizer.zero_grad()\n",
    "            loss.backward()\n",
    "            optimizer.step()\n",
    "            # Compute accuracy\n",
    "            _, predicted = torch.max(yhat_train.data, 1)\n",
    "            n_correct += (predicted == y_train).sum().item()\n",
    "            total_samples+=len(y_train)\n",
    "        \n",
    "        # Loss & accuracy per epoch\n",
    "        train_loss.append(loss.item())\n",
    "        train_accuracy.append(n_correct/total_samples)        \n",
    "        print(f'Epoch {epoch+1}/{num_epochs} => Training Loss: {loss.item():.4f}')\n",
    "    \n",
    "    plot_acc_loss(train_test='Train', accuracy=train_accuracy, loss_=train_loss)\n",
    "\n",
    "    return (model)\n",
    "\n",
    "# Function to test model\n",
    "def test_model(model, dataloader, device, criterion):\n",
    "    with torch.no_grad():\n",
    "        n_correct = 0\n",
    "        test_accuracy = []\n",
    "        test_loss = []\n",
    "        total_samples = 0\n",
    "        for i, (X_test, y_test) in enumerate(dataloader):\n",
    "            X_test = X_test.to(device)\n",
    "            y_test = y_test.to(device)\n",
    "            yhat_test = model(X_test)\n",
    "            loss = criterion(yhat_test, y_test)\n",
    "            \n",
    "            # Compute accuracy\n",
    "            _, predicted = torch.max(yhat_test.data, 1)\n",
    "            n_correct += (predicted == y_test).sum().item()\n",
    "            total_samples+=len(y_test)\n",
    "            \n",
    "            # Append loss & accuracy\n",
    "            test_loss.append(loss.item())\n",
    "            test_accuracy.append(n_correct / total_samples)\n",
    "            \n",
    "        # Print Test Accuracy & Loss\n",
    "        print (f'Test Accuracy: {test_accuracy[-1]:.4f}')\n",
    "        print (f'Test Loss: {test_loss[-1]:.4f}')\n",
    "\n",
    "    plot_acc_loss(train_test='Test', accuracy=test_accuracy, loss_=test_loss)\n",
    "\n",
    "# Device configuration\n",
    "device = torch.device('cuda' if torch.cuda.is_available() else 'cpu')\n",
    "\n",
    "def choose_model(option):\n",
    "    if (option == 'resnet'):\n",
    "        # Load pre-trained model\n",
    "        model = torchvision.models.resnet18(pretrained=True)\n",
    "        print ('ConvNet as fixed feature extractor')\n",
    "        for param in model.parameters():\n",
    "            param.requires_grad = False\n",
    "        # Parameters of newly constructed modules have requires_grad=True by default\n",
    "        num_ftrs = model.fc.in_features\n",
    "        model.fc = nn.Linear(num_ftrs, 5)\n",
    "    elif (option == 'vgg16'):\n",
    "        model = torchvision.models.vgg16(pretrained=True)\n",
    "        for param in model.parameters():\n",
    "            param.requires_grad = False\n",
    "        num_features = model.classifier[6].in_features\n",
    "        features = list(model.classifier.children())[:-1] # Remove last layer\n",
    "        features.extend([nn.Linear(num_features, 5)]) # Add our layer with 5 outputs\n",
    "        model.classifier = nn.Sequential(*features) # Replace the model classifier\n",
    "    return (model)\n",
    "\n",
    "# Choose model\n",
    "# Add final fully connected layer or\n",
    "# FFE (Fixed Feature Extractor, freeze all but final layer)\n",
    "# model = choose_model('')\n",
    "# model = choose_model('resnet')\n",
    "model = choose_model('vgg16')\n",
    "model = model.to(device)\n",
    "\n",
    "# Hyper-parameters\n",
    "num_epochs = 5\n",
    "batch_size = 10\n",
    "learning_rate = 0.001\n",
    "\n",
    "# Define Loss & Optimzier\n",
    "criterion = nn.CrossEntropyLoss()\n",
    "optimizer = torch.optim.Adam(model.parameters(), lr=learning_rate)\n",
    "# Decay LR by a factor of 0.1 every 7 epochs\n",
    "exp_lr_scheduler = torch.optim.lr_scheduler.StepLR(optimizer, step_size=7, gamma=0.1)\n",
    "\n",
    "# Train model        \n",
    "model = train_model(model, num_epochs, dataloader_train, device, criterion, optimizer)\n",
    "# Test model\n",
    "test_model(model, dataloader_test, device, criterion)\n",
    "\n",
    "MODELPATH = './data/models/cnn_tl2.pt'\n",
    "torch.save(model, MODELPATH)"
   ]
  },
  {
   "cell_type": "code",
   "execution_count": 51,
   "metadata": {
    "hidden": true
   },
   "outputs": [
    {
     "data": {
      "text/plain": [
       "Linear(in_features=4096, out_features=1000, bias=True)"
      ]
     },
     "execution_count": 51,
     "metadata": {},
     "output_type": "execute_result"
    }
   ],
   "source": [
    "# model = torchvision.models.vgg16(pretrained=True)\n",
    "model\n",
    "list(model.classifier.children())[-1]"
   ]
  },
  {
   "cell_type": "markdown",
   "metadata": {
    "heading_collapsed": true
   },
   "source": [
    "## Face Recognition"
   ]
  },
  {
   "cell_type": "code",
   "execution_count": 13,
   "metadata": {
    "hidden": true
   },
   "outputs": [
    {
     "name": "stdout",
     "output_type": "stream",
     "text": [
      "2\n",
      "mama\n"
     ]
    }
   ],
   "source": [
    "classes = traintest.classes\n",
    "model.eval()\n",
    "\n",
    "for im, la in dataloader_test:\n",
    "    img = im[0].view(1, 3, 128, 128).to(device)\n",
    "    yhat = model(img)\n",
    "    label = torch.max(yhat.data, 1)[1]\n",
    "    print (label.item())\n",
    "    print (classes[label.item()])\n",
    "    break"
   ]
  },
  {
   "cell_type": "code",
   "execution_count": 18,
   "metadata": {
    "hidden": true
   },
   "outputs": [
    {
     "name": "stderr",
     "output_type": "stream",
     "text": [
      "100%|████████████████████████████████████████████████████████████████████████████████████| 5/5 [00:00<00:00,  6.03it/s]"
     ]
    },
    {
     "name": "stdout",
     "output_type": "stream",
     "text": [
      "correct =  75\n",
      "wrong =  0\n"
     ]
    },
    {
     "name": "stderr",
     "output_type": "stream",
     "text": [
      "\n"
     ]
    }
   ],
   "source": [
    "# import prep_data\n",
    "import numpy as np\n",
    "import torch\n",
    "import torch.nn as nn\n",
    "import torch.nn.functional as F\n",
    "from PIL import Image\n",
    "from tqdm import tqdm\n",
    "\n",
    "# Device configuration\n",
    "device = torch.device('cuda' if torch.cuda.is_available() else 'cpu')\n",
    "\n",
    "# Load model\n",
    "MODELPATH = './data/models/cnn_tl2.pt'\n",
    "model = torch.load(MODELPATH)\n",
    "model.eval()\n",
    "\n",
    "def predict_face(path, c):\n",
    "    im = Image.open(path)\n",
    "    im = img_transform(im)\n",
    "    im = im.view(1, 3, 128, 128).to(device)\n",
    "    yhat = model(im)\n",
    "    # print (yhat)\n",
    "    label = torch.max(yhat.data, 1)[1].item()\n",
    "#     print (label)\n",
    "    return (classes[label])\n",
    "\n",
    "idxs = np.random.randint(1,100, size=15)\n",
    "classes = traintest.classes\n",
    "correct = 0\n",
    "wrong = 0\n",
    "\n",
    "for c in tqdm(classes):\n",
    "    for idx in idxs:\n",
    "        pred = predict_face(f'./data/images/{c}/{c}_{idx}.jpg', c)\n",
    "#         print('pred=', pred, '\\t', 'actual=', c)\n",
    "        if (pred == c):\n",
    "            correct += 1\n",
    "        else:\n",
    "            wrong += 1\n",
    "\n",
    "print ('correct = ', correct)\n",
    "print ('wrong = ', wrong)"
   ]
  },
  {
   "cell_type": "code",
   "execution_count": 112,
   "metadata": {
    "hidden": true
   },
   "outputs": [
    {
     "data": {
      "text/plain": [
       "['baba', 'dylan', 'mama', 'naomi', 'tyler']"
      ]
     },
     "execution_count": 112,
     "metadata": {},
     "output_type": "execute_result"
    }
   ],
   "source": [
    "def predict_face(path, c):\n",
    "    im = Image.open(path)\n",
    "    im = prep_data.img_transform(im)\n",
    "    im = im.view(1, 3, 128, 128).to(device)\n",
    "    yhat = model(im)\n",
    "    # print (yhat)\n",
    "    label = torch.max(yhat.data, 1)[1].item()\n",
    "    return (classes[label])"
   ]
  },
  {
   "cell_type": "code",
   "execution_count": 2,
   "metadata": {
    "hidden": true
   },
   "outputs": [
    {
     "name": "stdout",
     "output_type": "stream",
     "text": [
      "hello\n"
     ]
    }
   ],
   "source": [
    "import time\n",
    "time.sleep(2.0)\n",
    "print ('hello')"
   ]
  },
  {
   "cell_type": "markdown",
   "metadata": {},
   "source": [
    "## Kaggle - House Price Prediction"
   ]
  },
  {
   "cell_type": "code",
   "execution_count": 1,
   "metadata": {},
   "outputs": [],
   "source": [
    "import pandas as pd\n",
    "\n",
    "df = pd.read_csv('./data/houseprice.csv')"
   ]
  },
  {
   "cell_type": "code",
   "execution_count": 2,
   "metadata": {},
   "outputs": [
    {
     "data": {
      "text/html": [
       "<div>\n",
       "<style scoped>\n",
       "    .dataframe tbody tr th:only-of-type {\n",
       "        vertical-align: middle;\n",
       "    }\n",
       "\n",
       "    .dataframe tbody tr th {\n",
       "        vertical-align: top;\n",
       "    }\n",
       "\n",
       "    .dataframe thead th {\n",
       "        text-align: right;\n",
       "    }\n",
       "</style>\n",
       "<table border=\"1\" class=\"dataframe\">\n",
       "  <thead>\n",
       "    <tr style=\"text-align: right;\">\n",
       "      <th></th>\n",
       "      <th>Id</th>\n",
       "      <th>MSSubClass</th>\n",
       "      <th>MSZoning</th>\n",
       "      <th>LotFrontage</th>\n",
       "      <th>LotArea</th>\n",
       "      <th>Street</th>\n",
       "      <th>Alley</th>\n",
       "      <th>LotShape</th>\n",
       "      <th>LandContour</th>\n",
       "      <th>Utilities</th>\n",
       "      <th>...</th>\n",
       "      <th>PoolArea</th>\n",
       "      <th>PoolQC</th>\n",
       "      <th>Fence</th>\n",
       "      <th>MiscFeature</th>\n",
       "      <th>MiscVal</th>\n",
       "      <th>MoSold</th>\n",
       "      <th>YrSold</th>\n",
       "      <th>SaleType</th>\n",
       "      <th>SaleCondition</th>\n",
       "      <th>SalePrice</th>\n",
       "    </tr>\n",
       "  </thead>\n",
       "  <tbody>\n",
       "    <tr>\n",
       "      <th>0</th>\n",
       "      <td>1</td>\n",
       "      <td>60</td>\n",
       "      <td>RL</td>\n",
       "      <td>65.0</td>\n",
       "      <td>8450</td>\n",
       "      <td>Pave</td>\n",
       "      <td>NaN</td>\n",
       "      <td>Reg</td>\n",
       "      <td>Lvl</td>\n",
       "      <td>AllPub</td>\n",
       "      <td>...</td>\n",
       "      <td>0</td>\n",
       "      <td>NaN</td>\n",
       "      <td>NaN</td>\n",
       "      <td>NaN</td>\n",
       "      <td>0</td>\n",
       "      <td>2</td>\n",
       "      <td>2008</td>\n",
       "      <td>WD</td>\n",
       "      <td>Normal</td>\n",
       "      <td>208500</td>\n",
       "    </tr>\n",
       "    <tr>\n",
       "      <th>1</th>\n",
       "      <td>2</td>\n",
       "      <td>20</td>\n",
       "      <td>RL</td>\n",
       "      <td>80.0</td>\n",
       "      <td>9600</td>\n",
       "      <td>Pave</td>\n",
       "      <td>NaN</td>\n",
       "      <td>Reg</td>\n",
       "      <td>Lvl</td>\n",
       "      <td>AllPub</td>\n",
       "      <td>...</td>\n",
       "      <td>0</td>\n",
       "      <td>NaN</td>\n",
       "      <td>NaN</td>\n",
       "      <td>NaN</td>\n",
       "      <td>0</td>\n",
       "      <td>5</td>\n",
       "      <td>2007</td>\n",
       "      <td>WD</td>\n",
       "      <td>Normal</td>\n",
       "      <td>181500</td>\n",
       "    </tr>\n",
       "    <tr>\n",
       "      <th>2</th>\n",
       "      <td>3</td>\n",
       "      <td>60</td>\n",
       "      <td>RL</td>\n",
       "      <td>68.0</td>\n",
       "      <td>11250</td>\n",
       "      <td>Pave</td>\n",
       "      <td>NaN</td>\n",
       "      <td>IR1</td>\n",
       "      <td>Lvl</td>\n",
       "      <td>AllPub</td>\n",
       "      <td>...</td>\n",
       "      <td>0</td>\n",
       "      <td>NaN</td>\n",
       "      <td>NaN</td>\n",
       "      <td>NaN</td>\n",
       "      <td>0</td>\n",
       "      <td>9</td>\n",
       "      <td>2008</td>\n",
       "      <td>WD</td>\n",
       "      <td>Normal</td>\n",
       "      <td>223500</td>\n",
       "    </tr>\n",
       "    <tr>\n",
       "      <th>3</th>\n",
       "      <td>4</td>\n",
       "      <td>70</td>\n",
       "      <td>RL</td>\n",
       "      <td>60.0</td>\n",
       "      <td>9550</td>\n",
       "      <td>Pave</td>\n",
       "      <td>NaN</td>\n",
       "      <td>IR1</td>\n",
       "      <td>Lvl</td>\n",
       "      <td>AllPub</td>\n",
       "      <td>...</td>\n",
       "      <td>0</td>\n",
       "      <td>NaN</td>\n",
       "      <td>NaN</td>\n",
       "      <td>NaN</td>\n",
       "      <td>0</td>\n",
       "      <td>2</td>\n",
       "      <td>2006</td>\n",
       "      <td>WD</td>\n",
       "      <td>Abnorml</td>\n",
       "      <td>140000</td>\n",
       "    </tr>\n",
       "    <tr>\n",
       "      <th>4</th>\n",
       "      <td>5</td>\n",
       "      <td>60</td>\n",
       "      <td>RL</td>\n",
       "      <td>84.0</td>\n",
       "      <td>14260</td>\n",
       "      <td>Pave</td>\n",
       "      <td>NaN</td>\n",
       "      <td>IR1</td>\n",
       "      <td>Lvl</td>\n",
       "      <td>AllPub</td>\n",
       "      <td>...</td>\n",
       "      <td>0</td>\n",
       "      <td>NaN</td>\n",
       "      <td>NaN</td>\n",
       "      <td>NaN</td>\n",
       "      <td>0</td>\n",
       "      <td>12</td>\n",
       "      <td>2008</td>\n",
       "      <td>WD</td>\n",
       "      <td>Normal</td>\n",
       "      <td>250000</td>\n",
       "    </tr>\n",
       "  </tbody>\n",
       "</table>\n",
       "<p>5 rows × 81 columns</p>\n",
       "</div>"
      ],
      "text/plain": [
       "   Id  MSSubClass MSZoning  LotFrontage  LotArea Street Alley LotShape  \\\n",
       "0   1          60       RL         65.0     8450   Pave   NaN      Reg   \n",
       "1   2          20       RL         80.0     9600   Pave   NaN      Reg   \n",
       "2   3          60       RL         68.0    11250   Pave   NaN      IR1   \n",
       "3   4          70       RL         60.0     9550   Pave   NaN      IR1   \n",
       "4   5          60       RL         84.0    14260   Pave   NaN      IR1   \n",
       "\n",
       "  LandContour Utilities  ... PoolArea PoolQC Fence MiscFeature MiscVal MoSold  \\\n",
       "0         Lvl    AllPub  ...        0    NaN   NaN         NaN       0      2   \n",
       "1         Lvl    AllPub  ...        0    NaN   NaN         NaN       0      5   \n",
       "2         Lvl    AllPub  ...        0    NaN   NaN         NaN       0      9   \n",
       "3         Lvl    AllPub  ...        0    NaN   NaN         NaN       0      2   \n",
       "4         Lvl    AllPub  ...        0    NaN   NaN         NaN       0     12   \n",
       "\n",
       "  YrSold  SaleType  SaleCondition  SalePrice  \n",
       "0   2008        WD         Normal     208500  \n",
       "1   2007        WD         Normal     181500  \n",
       "2   2008        WD         Normal     223500  \n",
       "3   2006        WD        Abnorml     140000  \n",
       "4   2008        WD         Normal     250000  \n",
       "\n",
       "[5 rows x 81 columns]"
      ]
     },
     "execution_count": 2,
     "metadata": {},
     "output_type": "execute_result"
    }
   ],
   "source": [
    "df.head()"
   ]
  },
  {
   "cell_type": "code",
   "execution_count": 8,
   "metadata": {},
   "outputs": [
    {
     "data": {
      "text/plain": [
       "SalePrice      0\n",
       "MSSubClass     0\n",
       "MSZoning       0\n",
       "LotFrontage    0\n",
       "LotArea        0\n",
       "Street         0\n",
       "YearBuilt      0\n",
       "LotShape       0\n",
       "1stFlrSF       0\n",
       "2ndFlrSF       0\n",
       "dtype: int64"
      ]
     },
     "execution_count": 8,
     "metadata": {},
     "output_type": "execute_result"
    }
   ],
   "source": [
    "cols = [\"SalePrice\", \"MSSubClass\", \"MSZoning\", \"LotFrontage\", \"LotArea\",\n",
    "                                         \"Street\", \"YearBuilt\", \"LotShape\", \"1stFlrSF\", \"2ndFlrSF\"]\n",
    "\n",
    "\n",
    "df[cols].dropna().isnull().sum()\n"
   ]
  },
  {
   "cell_type": "code",
   "execution_count": 10,
   "metadata": {},
   "outputs": [
    {
     "data": {
      "text/plain": [
       "'fghij'"
      ]
     },
     "execution_count": 10,
     "metadata": {},
     "output_type": "execute_result"
    }
   ],
   "source": [
    "import string\n",
    "\n",
    "string.ascii_lowercase[:5]\n",
    "string.ascii_lowercase[5:10]"
   ]
  },
  {
   "cell_type": "code",
   "execution_count": null,
   "metadata": {},
   "outputs": [],
   "source": []
  },
  {
   "cell_type": "code",
   "execution_count": null,
   "metadata": {},
   "outputs": [],
   "source": []
  },
  {
   "cell_type": "code",
   "execution_count": null,
   "metadata": {},
   "outputs": [],
   "source": []
  },
  {
   "cell_type": "code",
   "execution_count": null,
   "metadata": {},
   "outputs": [],
   "source": []
  },
  {
   "cell_type": "code",
   "execution_count": null,
   "metadata": {},
   "outputs": [],
   "source": []
  },
  {
   "cell_type": "code",
   "execution_count": null,
   "metadata": {},
   "outputs": [],
   "source": []
  },
  {
   "cell_type": "code",
   "execution_count": null,
   "metadata": {},
   "outputs": [],
   "source": []
  },
  {
   "cell_type": "code",
   "execution_count": null,
   "metadata": {},
   "outputs": [],
   "source": []
  },
  {
   "cell_type": "code",
   "execution_count": null,
   "metadata": {},
   "outputs": [],
   "source": []
  },
  {
   "cell_type": "code",
   "execution_count": null,
   "metadata": {},
   "outputs": [],
   "source": []
  },
  {
   "cell_type": "code",
   "execution_count": null,
   "metadata": {},
   "outputs": [],
   "source": []
  },
  {
   "cell_type": "code",
   "execution_count": null,
   "metadata": {},
   "outputs": [],
   "source": []
  }
 ],
 "metadata": {
  "kernelspec": {
   "display_name": "Python 3",
   "language": "python",
   "name": "python3"
  },
  "language_info": {
   "codemirror_mode": {
    "name": "ipython",
    "version": 3
   },
   "file_extension": ".py",
   "mimetype": "text/x-python",
   "name": "python",
   "nbconvert_exporter": "python",
   "pygments_lexer": "ipython3",
   "version": "3.7.3"
  }
 },
 "nbformat": 4,
 "nbformat_minor": 2
}
