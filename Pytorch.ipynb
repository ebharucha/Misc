{
 "cells": [
  {
   "cell_type": "markdown",
   "metadata": {
    "heading_collapsed": true
   },
   "source": [
    "# Derivatives"
   ]
  },
  {
   "cell_type": "code",
   "execution_count": null,
   "metadata": {
    "hidden": true
   },
   "outputs": [],
   "source": [
    "import torch\n",
    "\n",
    "# Find derivative of y(x) = x^2 + 2x + 5 at x=3\n",
    "\n",
    "x = torch.tensor(2., requires_grad=True)\n",
    "y = x**2 + 2*x + 5\n",
    "y.backward()\n",
    "print (f'x.grad = {x.grad}')\n",
    "print (f'x.grad.item() = {x.grad.item()}')"
   ]
  },
  {
   "cell_type": "markdown",
   "metadata": {
    "heading_collapsed": true
   },
   "source": [
    "# Dataset & Transforms"
   ]
  },
  {
   "cell_type": "code",
   "execution_count": null,
   "metadata": {
    "hidden": true
   },
   "outputs": [],
   "source": [
    "import os\n",
    "from PIL import Image\n",
    "import matplotlib.pyplot as plt\n",
    "%matplotlib inline\n",
    "import numpy as np\n",
    "import pandas as pd\n",
    "import torch\n",
    "from torch.utils.data import Dataset\n",
    "import torchvision.transforms as transforms\n",
    "\n",
    "class Dataset(Dataset):\n",
    "    def __init__(self, datadir=None, img_csv_file=None, transform=None):\n",
    "        self.datadir = datadir\n",
    "        self.transform = transform\n",
    "        self.df = pd.read_csv(os.path.join(self.datadir, img_csv_file))\n",
    "        \n",
    "    def __getitem__ (self, idx):\n",
    "        cat = self.df.iloc[idx][0]\n",
    "        img = self.df.iloc[idx][1]\n",
    "        img_arr = Image.open(os.path.join(self.datadir, img))\n",
    "        \n",
    "        if (self.transform):\n",
    "            # transform converts to a (1,20,20) tensor, which is then reshaped to a (20,20) tensor or numpy array\n",
    "            img_arr = self.transform(img_arr)\n",
    "            img_arr = torch.reshape(img_arr, (20,20))\n",
    "            #             img_arr = self.transform(img_arr).numpy().reshape(20,20)\n",
    "            \n",
    "        plt.imshow(img_arr)\n",
    "        plt.title(cat)\n",
    "        return(cat, img)\n",
    "    \n",
    "    def __len__(self):\n",
    "        return(self.df.shape[0])"
   ]
  },
  {
   "cell_type": "code",
   "execution_count": null,
   "metadata": {
    "hidden": true
   },
   "outputs": [],
   "source": [
    "croptensor_data_transform = transforms.Compose([transforms.CenterCrop(20), transforms.ToTensor()])\n",
    "dataset = Dataset(datadir=\"./data\" , img_csv_file=\"index.csv\", transform=None )\n",
    "dataset = Dataset(datadir=\"./data\" , img_csv_file=\"index.csv\", transform=croptensor_data_transform)\n",
    "\n",
    "dataset[9]"
   ]
  },
  {
   "cell_type": "code",
   "execution_count": null,
   "metadata": {
    "hidden": true
   },
   "outputs": [],
   "source": [
    "# Without Transforms\n",
    "dataset = Dataset('./data', 'index.csv')\n",
    "plt.figure(figsize=(30,20))\n",
    "for i in range(5):\n",
    "    plt.subplot(1,5,i+1)\n",
    "    dataset[i]\n",
    "\n",
    "# With Transforms\n",
    "dataset = Dataset('./data', 'index.csv', transform=croptensor_data_transform)\n",
    "plt.figure(figsize=(30,20))\n",
    "for i in range(5):\n",
    "    plt.subplot(1,5,i+1)\n",
    "    dataset[i]"
   ]
  },
  {
   "cell_type": "markdown",
   "metadata": {
    "heading_collapsed": true
   },
   "source": [
    "# Linear Regression"
   ]
  },
  {
   "cell_type": "code",
   "execution_count": null,
   "metadata": {
    "hidden": true
   },
   "outputs": [],
   "source": [
    "import torch \n",
    "\n",
    "x = torch.randint(1,5,(3,1))\n",
    "w = torch.tensor(2.0)\n",
    "b = torch.tensor(-1.0)\n",
    "\n",
    "print (x)\n",
    "\n",
    "y = w*x + b\n",
    "print (y)"
   ]
  },
  {
   "cell_type": "code",
   "execution_count": null,
   "metadata": {
    "hidden": true
   },
   "outputs": [],
   "source": [
    "from torch.nn import Linear\n",
    "\n",
    "torch.manual_seed(42)\n",
    "\n",
    "# y = 0.7645x + 0.8300  (w=0.7645, b=0.8300), for random seed 42\n",
    "lr = Linear(in_features=1, out_features=1, bias=True)\n",
    "print (f'Parameters = {list(lr.parameters())}')\n",
    "print ('-'*50)\n",
    "print(lr.state_dict())\n",
    "print (lr.state_dict().keys())\n",
    "for key, val in lr.state_dict().items():\n",
    "    print (f'{key} = {val}')\n",
    "print ('-'*50)\n",
    "x = torch.tensor([[1.], [2.]])\n",
    "x = torch.randn(5,1)\n",
    "yhat = lr(x)\n",
    "print ('x = ', x)\n",
    "print ('yhat = ', yhat)"
   ]
  },
  {
   "cell_type": "code",
   "execution_count": null,
   "metadata": {
    "hidden": true
   },
   "outputs": [],
   "source": [
    "# Create custom nn Module\n",
    "\n",
    "from torch import nn\n",
    "\n",
    "class LR(nn.Module):\n",
    "    def __init__ (self, input_size, outout_size):\n",
    "        super(LR, self).__init__()\n",
    "        self.lr_model = nn.Linear(input_size, outout_size)\n",
    "        \n",
    "    def forward(self, x):\n",
    "        y_pred = self.lr_model(x)\n",
    "        return (y_pred)"
   ]
  },
  {
   "cell_type": "code",
   "execution_count": null,
   "metadata": {
    "hidden": true
   },
   "outputs": [],
   "source": [
    "lr = LR(1,1)\n",
    "print(\"The parameters: \", list(lr.parameters()))\n",
    "print(\"Linear model: \", lr.lr_model)\n",
    "print ('-'*50)\n",
    "x = torch.randn(5,1)\n",
    "yhat = lr(x)\n",
    "print ('x = ', x)\n",
    "print ('yhat = ', yhat)"
   ]
  },
  {
   "cell_type": "markdown",
   "metadata": {
    "heading_collapsed": true
   },
   "source": [
    "# Loss & Optimization"
   ]
  },
  {
   "cell_type": "code",
   "execution_count": null,
   "metadata": {
    "hidden": true
   },
   "outputs": [],
   "source": [
    "# Create Dataset class\n",
    "from torch.utils.data import Dataset, DataLoader\n",
    "\n",
    "torch.manual_seed(45)\n",
    "\n",
    "class Dataset(Dataset):\n",
    "    def __init__(self, size):\n",
    "        self.x = torch.linspace(-6,6,steps=size).view(-1,1)\n",
    "        self.f = 1 * self.x -1\n",
    "        self.y = self.f + torch.randint(-10,10,(size,1)) * 0.01\n",
    "        self.len = self.x.shape[0]\n",
    "        \n",
    "    def __getitem__(self, idx):\n",
    "       return (self.x[idx], self.f[idx], self.y[idx])\n",
    "\n",
    "    def __len__(self):\n",
    "        return (self.len)\n",
    "\n",
    "############\n",
    "size = 100\n",
    "dataset = Dataset(size)\n",
    "############\n",
    "plt.figure(figsize=(7,5))\n",
    "plt.plot(dataset.x, dataset.f, 'b')\n",
    "plt.plot(dataset.x, dataset.y, 'rx')"
   ]
  },
  {
   "cell_type": "code",
   "execution_count": null,
   "metadata": {
    "hidden": true
   },
   "outputs": [],
   "source": [
    "# Create Model\n",
    "from torch import nn, optim\n",
    "\n",
    "class LR(nn.Module):\n",
    "    def __init__(self,input_size,output_size):\n",
    "        super(LR, self).__init__()\n",
    "        self.lr_model = nn.Linear(input_size, output_size)\n",
    "        \n",
    "    def forward (self, x):\n",
    "        yhat = self.lr_model(x)\n",
    "        return (yhat)\n",
    "    \n",
    "# Instantiate model\n",
    "model = LR(1,1)\n",
    "model.state_dict()"
   ]
  },
  {
   "cell_type": "code",
   "execution_count": null,
   "metadata": {
    "hidden": true
   },
   "outputs": [],
   "source": [
    "# Cost function\n",
    "criterion = nn.MSELoss()\n",
    "\n",
    "# Create optimzier\n",
    "optimizer = optim.SGD(model.parameters(), lr=0.01)\n",
    "list(model.parameters()), optimizer.state_dict()"
   ]
  },
  {
   "cell_type": "code",
   "execution_count": null,
   "metadata": {
    "hidden": true
   },
   "outputs": [],
   "source": [
    "# Create DataLoader\n",
    "\n",
    "trainloader = DataLoader(dataset=dataset, batch_size=1)\n",
    "\n",
    "def train_model_BGD(iter):\n",
    "    for epoch in range(iter):\n",
    "        for x, f, y in trainloader:\n",
    "            yhat = model(x)\n",
    "            loss = criterion(yhat, y)\n",
    "            optimizer.zero_grad()\n",
    "            loss.backward()\n",
    "            optimizer.step()\n",
    "            \n",
    "train_model_BGD(10)"
   ]
  },
  {
   "cell_type": "code",
   "execution_count": null,
   "metadata": {
    "hidden": true
   },
   "outputs": [],
   "source": [
    "w = model.state_dict()['lr_model.weight'].item()\n",
    "b = model.state_dict()['lr_model.bias'].item()\n",
    "x = dataset.x\n",
    "y = w*x + b\n",
    "\n",
    "plt.plot(dataset.x, dataset.y, 'r')\n",
    "plt.plot(x, y, 'b--')"
   ]
  },
  {
   "cell_type": "markdown",
   "metadata": {
    "heading_collapsed": true
   },
   "source": [
    "# Multiple Linear Regression"
   ]
  },
  {
   "cell_type": "code",
   "execution_count": null,
   "metadata": {
    "hidden": true
   },
   "outputs": [],
   "source": [
    "from torch import nn\n",
    "\n",
    "class Linear(nn.Module):\n",
    "    def __init__(self, input_size, output_size):\n",
    "        super(Linear, self).__init__()\n",
    "        self.lr_model = nn.Linear(input_size, output_size)\n",
    "        \n",
    "    def forward(self, x):\n",
    "        return (self.lr_model(x))"
   ]
  },
  {
   "cell_type": "code",
   "execution_count": null,
   "metadata": {
    "hidden": true
   },
   "outputs": [],
   "source": [
    "lr_model = Linear(2,1)\n",
    "lr_model.state_dict()['lr_model.weight'].shape\n",
    "\n",
    "x = torch.randn((5,2))\n",
    "lr_model(x)"
   ]
  },
  {
   "cell_type": "code",
   "execution_count": null,
   "metadata": {
    "hidden": true
   },
   "outputs": [],
   "source": [
    "a = torch.randint(0,5,(1,2))\n",
    "b = torch.randint(0,5,(2,2))\n",
    "c = torch.randint(0,5,(1,2))\n",
    "\n",
    "print (a)\n",
    "print (20*'-')\n",
    "print (b)\n",
    "print (20*'-')\n",
    "print (c)"
   ]
  },
  {
   "cell_type": "markdown",
   "metadata": {
    "heading_collapsed": true
   },
   "source": [
    "# Logistic Regression"
   ]
  },
  {
   "cell_type": "markdown",
   "metadata": {
    "heading_collapsed": true,
    "hidden": true
   },
   "source": [
    "## Sequential Model"
   ]
  },
  {
   "cell_type": "code",
   "execution_count": null,
   "metadata": {
    "hidden": true
   },
   "outputs": [],
   "source": [
    "import torch\n",
    "import torch.nn as nn\n",
    "\n",
    "torch.manual_seed(45)\n",
    "x = torch.randn(3,2)\n",
    "# x = torch.ones(3,1)\n",
    "logR_seq_model = nn.Sequential(nn.Linear(2,1), nn.Sigmoid())\n",
    "print ('x = ', x)\n",
    "print ('\\nModel parameters = \\n', logR_seq_model.parameters, '\\nModel state dictionary = \\n', logR_seq_model.state_dict())\n",
    "print ('-'*30)\n",
    "print ('Model predictions = \\n', logR_seq_model(x))"
   ]
  },
  {
   "cell_type": "markdown",
   "metadata": {
    "heading_collapsed": true,
    "hidden": true
   },
   "source": [
    "## Custom Model"
   ]
  },
  {
   "cell_type": "code",
   "execution_count": null,
   "metadata": {
    "hidden": true
   },
   "outputs": [],
   "source": [
    "import torch\n",
    "from torch.nn import Module\n",
    "\n",
    "class logR(Module):\n",
    "    def __init__(self, input_size, output_size):\n",
    "        super(logR, self).__init__()\n",
    "        self.logR_model = nn.Linear(input_size, output_size)\n",
    "        \n",
    "    def forward(self, x):\n",
    "        yhat = self.logR_model(torch.sigmoid(x))\n",
    "        return (yhat)"
   ]
  },
  {
   "cell_type": "code",
   "execution_count": null,
   "metadata": {
    "hidden": true
   },
   "outputs": [],
   "source": [
    "torch.manual_seed(45)\n",
    "\n",
    "logR_custom_model = logR(2,1)\n",
    "logR_custom_model.state_dict()['logR_model.weight'].data[0] = torch.tensor([[-0.1108, -0.3715]])\n",
    "logR_custom_model.state_dict()['logR_model.bias'].data[0] = torch.tensor([0.4399])\n",
    "print (logR_custom_model.state_dict())\n",
    "\n",
    "print ('x = ', x)\n",
    "print ('\\nModel parameters = \\n', logR_custom_model.parameters, '\\nModel state dictionary = \\n', logR_custom_model.state_dict())\n",
    "print ('-'*30)\n",
    "print ('Model predictions = \\n', logR_custom_model(x))"
   ]
  },
  {
   "cell_type": "markdown",
   "metadata": {
    "heading_collapsed": true,
    "hidden": true
   },
   "source": [
    "## Binary Classification - using Sigmoid activation"
   ]
  },
  {
   "cell_type": "code",
   "execution_count": null,
   "metadata": {
    "hidden": true
   },
   "outputs": [],
   "source": [
    "import torch\n",
    "import torch.nn as nn\n",
    "from torch.nn import Module\n",
    "from torch.utils.data import Dataset, DataLoader"
   ]
  },
  {
   "cell_type": "code",
   "execution_count": null,
   "metadata": {
    "hidden": true
   },
   "outputs": [],
   "source": [
    "# Cerate dataset\n",
    "\n",
    "class Data(Dataset):\n",
    "    def __init__(self, samples=5, input_size=2, output_size=1, classes=2):\n",
    "        self.x = torch.randn(samples, input_size, dtype=torch.float32)\n",
    "        self.y = torch.zeros(samples,1)\n",
    "        self.y[torch.sum(self.x, dim=1)>0] = 1\n",
    "        self.len = self.x.shape[0]\n",
    "        \n",
    "    def __getitem__(self, idx):\n",
    "        return (self.x[idx], self.y[idx])\n",
    "    \n",
    "    def __len__(self):\n",
    "        return (self.len)"
   ]
  },
  {
   "cell_type": "code",
   "execution_count": null,
   "metadata": {
    "hidden": true
   },
   "outputs": [],
   "source": [
    "# Cerate custom model\n",
    "\n",
    "class logR(nn.Module):\n",
    "    def __init__(self, input_size=2, output_size=1):\n",
    "        super(logR, self).__init__()\n",
    "        self.logR_model = nn.Linear(input_size, output_size)\n",
    "        \n",
    "    def forward(self, x):\n",
    "        return (torch.sigmoid(self.logR_model(x)))"
   ]
  },
  {
   "cell_type": "code",
   "execution_count": null,
   "metadata": {
    "hidden": true
   },
   "outputs": [],
   "source": [
    "torch.manual_seed(45)\n",
    "\n",
    "# Initiialize datset & model\n",
    "dataset = Data(samples=1000, input_size=3, output_size=1, classes=2)\n",
    "trainloader = DataLoader(dataset=dataset, batch_size=1)\n",
    "logR_model = logR(input_size=3, output_size=1)"
   ]
  },
  {
   "cell_type": "code",
   "execution_count": null,
   "metadata": {
    "hidden": true
   },
   "outputs": [],
   "source": [
    "# Train model\n",
    "\n",
    "def train_model_logR(iter=5):\n",
    "    for epoch in range(iter):\n",
    "        for x, y in trainloader:\n",
    "            yhat = logR_model(x)\n",
    "            loss = criterion(yhat, y.float())\n",
    "            optimizer.zero_grad()\n",
    "            loss.backward()\n",
    "            optimizer.step()\n",
    "            return (loss)\n",
    "\n",
    "criterion = nn.MSELoss()\n",
    "learning_rate = 0.1\n",
    "optimizer = torch.optim.SGD(logR_model.parameters(), lr=learning_rate)\n",
    "train_model_logR(iter=6)"
   ]
  },
  {
   "cell_type": "code",
   "execution_count": null,
   "metadata": {
    "hidden": true
   },
   "outputs": [],
   "source": [
    "# Predict & check accuracy\n",
    "\n",
    "yhat = logR_model(dataset.x)\n",
    "yhat[yhat >= 0.5] = 1\n",
    "yhat[yhat < 0.5] = 0\n",
    "print (f'Accuracy = {(yhat == dataset.y).sum().item()/len(yhat)*100}%')"
   ]
  },
  {
   "cell_type": "code",
   "execution_count": null,
   "metadata": {
    "hidden": true
   },
   "outputs": [],
   "source": [
    "yhat = logR_model(dataset.x)\n",
    "label = yhat > 0.5\n",
    "print(\"The accuracy: \", torch.mean((label == dataset.y.type(torch.ByteTensor)).type(torch.float)))"
   ]
  },
  {
   "cell_type": "markdown",
   "metadata": {
    "heading_collapsed": true,
    "hidden": true
   },
   "source": [
    "## Multiclass Classification - using Softmax activation"
   ]
  },
  {
   "cell_type": "code",
   "execution_count": null,
   "metadata": {
    "hidden": true
   },
   "outputs": [],
   "source": [
    "import torch\n",
    "import torch.nn as nn\n",
    "import torchvision.datasets as dsets\n",
    "from torch.utils.data import DataLoader\n",
    "import torchvision.transforms as transforms\n",
    "\n",
    "import matplotlib.pyplot as plt\n",
    "%matplotlib inline\n",
    "\n",
    "from tqdm import tqdm"
   ]
  },
  {
   "cell_type": "code",
   "execution_count": null,
   "metadata": {
    "hidden": true
   },
   "outputs": [],
   "source": [
    "# Get training & validation data\n",
    "\n",
    "train_dataset = dsets.MNIST(root='./data', train=True, download=True, transform=transforms.ToTensor())\n",
    "print(\"Print the training dataset:\\n \", train_dataset)\n",
    "\n",
    "# Create and print the validating dataset\n",
    "\n",
    "validation_dataset = dsets.MNIST(root='./data', train=False, download=True, transform=transforms.ToTensor())\n",
    "print(\"Print the validating dataset:\\n \", validation_dataset)"
   ]
  },
  {
   "cell_type": "code",
   "execution_count": null,
   "metadata": {
    "hidden": true
   },
   "outputs": [],
   "source": [
    "for i in range (1,6):\n",
    "    plt.subplot(1,5,i)\n",
    "    plt.imshow(train_dataset[i-1][0].view(28,28))\n",
    "    plt.title(train_dataset[i-1][1])"
   ]
  },
  {
   "cell_type": "code",
   "execution_count": null,
   "metadata": {
    "hidden": true
   },
   "outputs": [],
   "source": [
    "class Softmax(nn.Module):\n",
    "    def __init__(self, input_size=None, output_size=None):\n",
    "        super(Softmax, self).__init__()\n",
    "        self.softmax_model = nn.Linear(input_size, output_size)\n",
    "        \n",
    "    def forward(self, x):\n",
    "        return (self.softmax_model(x))"
   ]
  },
  {
   "cell_type": "code",
   "execution_count": null,
   "metadata": {
    "hidden": true
   },
   "outputs": [],
   "source": [
    "softmax_model = Softmax(input_size=784, output_size=10)\n",
    "learning_rate = 0.01\n",
    "optimizer = torch.optim.SGD(softmax_model.parameters(), lr=learning_rate)\n",
    "criterion = nn.CrossEntropyLoss()\n",
    "\n",
    "train_loader = DataLoader(dataset=train_dataset, batch_size=32)\n",
    "validation_loader = DataLoader(dataset=validation_dataset, batch_size=100)"
   ]
  },
  {
   "cell_type": "code",
   "execution_count": null,
   "metadata": {
    "hidden": true
   },
   "outputs": [],
   "source": [
    "# Train & Validate\n",
    "\n",
    "def train_val_model_softmax(epochs=5):\n",
    "    for epoch in tqdm(range(epochs)):\n",
    "        # Train model\n",
    "        total = 0\n",
    "        for x_train, y_train in train_loader:\n",
    "            z_train_pred = softmax_model(x_train.view(-1,784))\n",
    "            loss = criterion(z_train_pred, y_train)\n",
    "            loss.backward()\n",
    "            optimizer.step()\n",
    "            optimizer.zero_grad()\n",
    "#             training_loss.append(loss.data.item())\n",
    "    \n",
    "        # Predict & validate model\n",
    "        correct = 0\n",
    "        for x_test, y_test in validation_loader:\n",
    "            z = softmax_model(x_test.view(-1, 28 * 28))\n",
    "            _, yhat = torch.max(z.data, 1)\n",
    "            correct += (yhat == y_test).sum().item()\n",
    "        accuracy = correct / test_samples\n",
    "        validation_loss.append(loss.data)\n",
    "        validation_accuracy.append(accuracy)\n",
    "        \n",
    "epochs=10\n",
    "test_samples = len(validation_dataset)   \n",
    "training_loss = []\n",
    "validation_loss = []\n",
    "validation_accuracy = []\n",
    "\n",
    "train_val_model_softmax(epochs=10)"
   ]
  },
  {
   "cell_type": "code",
   "execution_count": null,
   "metadata": {
    "hidden": true
   },
   "outputs": [],
   "source": [
    "plt.figure(figsize=(7,4))\n",
    "ax1 = plt.subplot(1,1,1)\n",
    "ax1.plot(validation_accuracy, linewidth=3)\n",
    "ax1.set_xlabel('epochs', fontsize=18)\n",
    "ax1.set_ylabel('accuracy', fontsize=18)\n",
    "ax1.legend(['val accuracy'], loc=3)\n",
    "ax2 = ax1.twinx()\n",
    "ax2.plot(validation_loss, 'r--')\n",
    "ax2.set_ylabel('loss', fontsize=18)\n",
    "ax2.legend(['val loss'], loc=2)\n",
    "plt.show()"
   ]
  },
  {
   "cell_type": "code",
   "execution_count": null,
   "metadata": {
    "hidden": true
   },
   "outputs": [],
   "source": [
    "idx = 99\n",
    "\n",
    "img = validation_loader.dataset[idx][0].view(-1,28)\n",
    "label = validation_loader.dataset[idx][1]\n",
    "pred = softmax_model(validation_loader.dataset[idx][0].view(-1,28*28))\n",
    "plt.imshow(img)\n",
    "plt.title(f'label={label}   Prediction={pred.argmax().item()}', fontsize=10)\n",
    "plt.show()"
   ]
  },
  {
   "cell_type": "markdown",
   "metadata": {
    "heading_collapsed": true
   },
   "source": [
    "# Neural Networks"
   ]
  },
  {
   "cell_type": "code",
   "execution_count": null,
   "metadata": {
    "hidden": true
   },
   "outputs": [],
   "source": [
    "import torch\n",
    "from torch import nn\n",
    "import torchvision.datasets as dsets\n",
    "from torch.utils.data import DataLoader\n",
    "import torchvision.transforms as transforms\n",
    "import matplotlib.pyplot as plt\n",
    "%matplotlib inline\n",
    "from tqdm import tqdm"
   ]
  },
  {
   "cell_type": "code",
   "execution_count": null,
   "metadata": {
    "hidden": true
   },
   "outputs": [],
   "source": [
    "# Get training & validation data\n",
    "\n",
    "train_dataset = dsets.MNIST(root='./data', train=True, download=True, transform=transforms.ToTensor())\n",
    "print(\"Print the training dataset:\\n \", train_dataset)\n",
    "\n",
    "# Create and print the validating dataset\n",
    "\n",
    "validation_dataset = dsets.MNIST(root='./data', train=False, download=True, transform=transforms.ToTensor())\n",
    "print(\"Print the validating dataset:\\n \", validation_dataset)"
   ]
  },
  {
   "cell_type": "code",
   "execution_count": null,
   "metadata": {
    "hidden": true
   },
   "outputs": [],
   "source": [
    "# Initialize Neural Net with 784 input neurons, 100 hidden neurons & 10 output neurons using Sequential model\n",
    "nn1 = nn.Sequential(\n",
    "    nn.Linear(784, 100),\n",
    "    nn.Sigmoid(),\n",
    "    nn.Linear(100, 10),\n",
    "#     nn.Sigmoid()\n",
    ")"
   ]
  },
  {
   "cell_type": "code",
   "execution_count": null,
   "metadata": {
    "hidden": true
   },
   "outputs": [],
   "source": [
    "class NN(nn.Module):\n",
    "    def __init__(self, input_size=None, hlayer1_size=None, output_size=None):\n",
    "        super(NN, self).__init__()\n",
    "        self.linear1 = nn.Linear(input_size, hlayer1_size)\n",
    "        self.linear2 = nn.Linear(hlayer1_size, output_size)\n",
    "    \n",
    "    def forward(self,x):\n",
    "        x = torch.sigmoid(self.linear1(x))\n",
    "        x = self.linear2(x)\n",
    "        return (x)"
   ]
  },
  {
   "cell_type": "code",
   "execution_count": null,
   "metadata": {
    "hidden": true
   },
   "outputs": [],
   "source": [
    "# Initialize Neural Net with 784 input neurons, 100 hidden neurons & 10 output neurons\n",
    "nn1 = NN(input_size=28*28, hlayer1_size=100, output_size=10)\n",
    "\n",
    "learning_rate = 0.01\n",
    "optimizer = torch.optim.SGD(nn1.parameters(), lr=learning_rate)\n",
    "criterion = nn.CrossEntropyLoss()\n",
    "\n",
    "train_loader = DataLoader(dataset=train_dataset, batch_size=32)\n",
    "validation_loader = DataLoader(dataset=validation_dataset, batch_size=100)"
   ]
  },
  {
   "cell_type": "code",
   "execution_count": null,
   "metadata": {
    "hidden": true
   },
   "outputs": [],
   "source": [
    "# Train & Validate\n",
    "\n",
    "def train_val_model_nn1(epochs=5):\n",
    "    for epoch in tqdm(range(epochs)):\n",
    "        # Train model\n",
    "        total = 0\n",
    "        for x_train, y_train in train_loader:\n",
    "            z_train_pred = nn1(x_train.view(-1,784))\n",
    "            loss = criterion(z_train_pred, y_train)\n",
    "            loss.backward()\n",
    "            optimizer.step()\n",
    "            optimizer.zero_grad()\n",
    "            training_loss.append(loss.data.item())\n",
    "    \n",
    "        # Predict & validate model\n",
    "        correct = 0\n",
    "        for x_test, y_test in validation_loader:\n",
    "            z = nn1(x_test.view(-1, 28 * 28))\n",
    "            _, yhat = torch.max(z.data, 1)\n",
    "            correct += (yhat == y_test).sum().item()\n",
    "        accuracy = correct / test_samples\n",
    "        validation_loss.append(loss.data)\n",
    "        validation_accuracy.append(accuracy)\n",
    "        \n",
    "epochs=10\n",
    "test_samples = len(validation_dataset)   \n",
    "training_loss = []\n",
    "validation_loss = []\n",
    "validation_accuracy = []\n",
    "\n",
    "train_val_model_nn1(epochs=10)"
   ]
  },
  {
   "cell_type": "code",
   "execution_count": null,
   "metadata": {
    "hidden": true
   },
   "outputs": [],
   "source": [
    "plt.figure(figsize=(7,4))\n",
    "ax1 = plt.subplot(1,1,1)\n",
    "ax1.plot(validation_accuracy, linewidth=3)\n",
    "ax1.set_xlabel('epochs', fontsize=18)\n",
    "ax1.set_ylabel('accuracy', fontsize=18)\n",
    "ax1.legend(['val accuracy'], loc=3)\n",
    "ax2 = ax1.twinx()\n",
    "ax2.plot(validation_loss, 'r--')\n",
    "ax2.set_ylabel('loss', fontsize=18)\n",
    "ax2.legend(['val loss'], loc=2)\n",
    "plt.show()"
   ]
  },
  {
   "cell_type": "markdown",
   "metadata": {
    "heading_collapsed": true
   },
   "source": [
    "# Feed Forward Network - Without Dropout"
   ]
  },
  {
   "cell_type": "code",
   "execution_count": null,
   "metadata": {
    "hidden": true
   },
   "outputs": [],
   "source": [
    "import torch\n",
    "from torch import nn\n",
    "import torch.nn.functional as F\n",
    "from torch.utils.data import Dataset, DataLoader\n",
    "from tqdm import tqdm"
   ]
  },
  {
   "cell_type": "code",
   "execution_count": null,
   "metadata": {
    "hidden": true
   },
   "outputs": [],
   "source": [
    "class Data(Dataset):\n",
    "    \n",
    "    #  modified from: http://cs231n.github.io/neural-networks-case-study/\n",
    "    # Constructor\n",
    "    def __init__(self, K=3, N=500):\n",
    "        D = 2\n",
    "        X = np.zeros((N * K, D)) # data matrix (each row = single example)\n",
    "        y = np.zeros(N * K, dtype='uint8') # class labels\n",
    "        for j in range(K):\n",
    "          ix = range(N * j, N * (j + 1))\n",
    "          r = np.linspace(0.0, 1, N) # radius\n",
    "          t = np.linspace(j * 4, (j + 1) * 4, N) + np.random.randn(N) * 0.2 # theta\n",
    "          X[ix] = np.c_[r * np.sin(t), r*np.cos(t)]\n",
    "          y[ix] = j\n",
    "        self.y = torch.from_numpy(y).type(torch.LongTensor)\n",
    "        self.x = torch.from_numpy(X).type(torch.FloatTensor)\n",
    "        self.len = y.shape[0]\n",
    "    \n",
    "    # Getter\n",
    "    def __getitem__(self, index):    \n",
    "        return self.x[index], self.y[index]\n",
    "    \n",
    "    # Get Length\n",
    "    def __len__(self):\n",
    "        return self.len"
   ]
  },
  {
   "cell_type": "code",
   "execution_count": null,
   "metadata": {
    "hidden": true
   },
   "outputs": [],
   "source": [
    "class NN(nn.Module):\n",
    "    # constructor\n",
    "    def __init__(self, Layers):\n",
    "        super(NN, self).__init__()\n",
    "        self.hidden = nn.ModuleList()\n",
    "        for input_size, output_size in zip(Layers, Layers[1:]):\n",
    "            self.hidden.append(nn.Linear(input_size, output_size))\n",
    "            \n",
    "    # Predict\n",
    "    def forward(self, x):\n",
    "        nn_len = len(self.hidden)\n",
    "        for i, layer in enumerate(self.hidden):\n",
    "            if (i < nn_len-1):\n",
    "                x = F.relu(layer(x))\n",
    "            else:\n",
    "                x = layer(x)\n",
    "        return (x)"
   ]
  },
  {
   "cell_type": "code",
   "execution_count": null,
   "metadata": {
    "hidden": true
   },
   "outputs": [],
   "source": [
    "torch.manual_seed(45)\n",
    "\n",
    "dataset = Data()\n",
    "Layers = [2, 50, 3]\n",
    "\n",
    "in_size = Layers[0]\n",
    "n_hidden = Layers[1]\n",
    "out_size = Layers[2]\n",
    "\n",
    "nn_m = NN(Layers)\n",
    "model = nn_m\n",
    "learning_rate = 0.01\n",
    "optimizer = torch.optim.SGD(model.parameters(), lr=learning_rate)\n",
    "criterion = nn.CrossEntropyLoss()\n",
    "train_loader = DataLoader(dataset=dataset, batch_size=20)"
   ]
  },
  {
   "cell_type": "code",
   "execution_count": null,
   "metadata": {
    "hidden": true
   },
   "outputs": [],
   "source": [
    "# The function to calculate the accuracy\n",
    "def accuracy(model, dataset):\n",
    "    _, yhat = torch.max(model(dataset.x), 1)\n",
    "    return (yhat == dataset.y).numpy().mean()\n",
    "\n",
    "# Train & Validate\n",
    "def train_val_model(dataset=None, train_loader=None, model=None, optimizier=None, criterion=None, epochs=5):\n",
    "    training_loss = []\n",
    "    training_accuracy = []\n",
    "    for epoch in tqdm(range(epochs)):\n",
    "        # Train model\n",
    "        for x_train, y_train in train_loader:\n",
    "            z_train_pred = model(x_train)\n",
    "            loss = criterion(z_train_pred, y_train)\n",
    "            loss.backward()\n",
    "            optimizer.step()\n",
    "            optimizer.zero_grad()\n",
    "            training_loss.append(loss.item())\n",
    "        training_accuracy.append(accuracy(model, dataset))\n",
    "    return (training_accuracy, training_loss)\n",
    "\n",
    "training_accuracy, training_loss = train_val_model(dataset=dataset, train_loader=train_loader, model=model, optimizier=optimizer, \n",
    "                                criterion=criterion, epochs=100)\n",
    "\n",
    "plt.figure(figsize=(10,5))\n",
    "plt.subplot(1,2,1)\n",
    "plt.plot(training_accuracy, linewidth=3)\n",
    "plt.title ('Training Accuracy')\n",
    "plt.ylabel('Accuracy')\n",
    "plt.subplot(1,2,2)\n",
    "plt.plot(training_loss[::500], 'r--', linewidth=2)\n",
    "plt.title ('Training Loss')\n",
    "plt.ylabel('Loss')\n",
    "plt.show()"
   ]
  },
  {
   "cell_type": "markdown",
   "metadata": {},
   "source": [
    "# Feed Forward Network - With Dropout"
   ]
  },
  {
   "cell_type": "code",
   "execution_count": 65,
   "metadata": {},
   "outputs": [],
   "source": [
    "import torch\n",
    "import torch.nn as nn\n",
    "from torch.utils.data import Dataset, DataLoader, TensorDataset\n",
    "from torch.backends import cudnn\n",
    "torch.manual_seed(45)\n",
    "device = torch.device('cuda' if torch.cuda.is_available() else 'cpu')\n",
    "if device.type == 'cuda':\n",
    "    torch.cuda.manual_seed(45)\n",
    "    cudnn.benchmark = True\n",
    "\n",
    "import numpy as np\n",
    "np.random.seed(45)\n",
    "    \n",
    "from sklearn.model_selection import train_test_split\n",
    "\n",
    "import matplotlib.pyplot as plt\n",
    "%matplotlib inline\n",
    "\n",
    "from tqdm import tqdm"
   ]
  },
  {
   "cell_type": "code",
   "execution_count": 83,
   "metadata": {},
   "outputs": [
    {
     "data": {
      "image/png": "[encoded data removed]",
      "text/plain": [
       "<Figure size 720x360 with 1 Axes>"
      ]
     },
     "metadata": {
      "needs_background": "light"
     },
     "output_type": "display_data"
    }
   ],
   "source": [
    "# Create data class for creating dataset object\n",
    "\n",
    "class Data(Dataset):\n",
    "    \n",
    "    # Constructor\n",
    "    def __init__(self, N_SAMPLES=1000, noise_std=0.15, train=True):\n",
    "        a = np.matrix([-1, 1, 2, 1, 1, -3, 1]).T\n",
    "        self.x = np.matrix(np.random.rand(N_SAMPLES, 2))\n",
    "        self.f = np.array(a[0] + (self.x) * a[1:3] + np.multiply(self.x[:, 0], self.x[:, 1]) * a[4] + np.multiply(self.x, self.x) * a[5:7]).flatten()\n",
    "        self.a = a\n",
    "       \n",
    "        self.y = np.zeros(N_SAMPLES)\n",
    "        self.y[self.f > 0] = 1\n",
    "        self.y = torch.from_numpy(self.y).type(torch.LongTensor)\n",
    "        self.x = torch.from_numpy(self.x).type(torch.FloatTensor)\n",
    "        self.x = self.x + noise_std * torch.randn(self.x.size())\n",
    "        self.f = torch.from_numpy(self.f)\n",
    "        self.a = a\n",
    "        if train == True:\n",
    "            torch.manual_seed(1)\n",
    "            self.x = self.x + noise_std * torch.randn(self.x.size())\n",
    "            torch.manual_seed(0)\n",
    "        \n",
    "    # Getter        \n",
    "    def __getitem__(self, index):    \n",
    "        return self.x[index], self.y[index]\n",
    "    \n",
    "    # Get Length\n",
    "    def __len__(self):\n",
    "        return self.len\n",
    "    \n",
    "    # Make a multidimension ploynomial function\n",
    "    def multi_dim_poly(self, x):\n",
    "        x = np.matrix(x)\n",
    "        out = np.array(self.a[0] + (x) * self.a[1:3] + np.multiply(x[:, 0], x[:, 1]) * self.a[4] + np.multiply(x, x) * self.a[5:7])\n",
    "        out = np.array(out)\n",
    "        return out\n",
    "    \n",
    "# Cerate dataset\n",
    "dataset = Data()\n",
    "\n",
    "# Split into train & validation datasets\n",
    "x_train, x_test, y_train, y_test = train_test_split(dataset.x.numpy(), dataset.y.numpy(), test_size=0.2,\n",
    "                                                   random_state=42)\n",
    "\n",
    "# Switch back from numpy to Pytorch tensor & dataset\n",
    "x_train_tensor = torch.tensor(x_train)\n",
    "x_test_tensor= torch.tensor(x_test)\n",
    "y_train_tensor = torch.tensor(y_train)\n",
    "y_test_tensor = torch.tensor(y_test)\n",
    "\n",
    "train_dataset = TensorDataset(x_train_tensor, y_train_tensor)\n",
    "test_dataset = TensorDataset(x_test_tensor, y_test_tensor)\n",
    "\n",
    "# Create dataloaders\n",
    "batch_size = 32\n",
    "train_loader = DataLoader(train_dataset, batch_size=batch_size)\n",
    "test_loader = DataLoader(test_dataset, batch_size=batch_size)\n",
    "\n",
    "x = train_dataset[:][0]\n",
    "y = train_dataset[:][1]\n",
    "\n",
    "x_min, x_max = x[:, 0].min(), x[:, 0].max()\n",
    "y_min, y_max = x[:, 1].min(), x[:, 1].max() \n",
    "xx, yy = np.meshgrid(np.arange(x_min, x_max, 0.02), np.arange(y_min, y_max, 0.02))\n",
    "\n",
    "Z = dataset.multi_dim_poly(np.c_[xx.ravel(), yy.ravel()]).flatten()\n",
    "f = np.zeros(Z.shape)\n",
    "f[Z > 0] = 1\n",
    "f = f.reshape(xx.shape)\n",
    "\n",
    "plt.figure(figsize=(10,5))\n",
    "plt.plot(x[y == 0, 0].numpy(), x[y == 0,1].numpy(), 'bo', label='y=0')\n",
    "plt.plot(x[y == 1, 0].numpy(), x[y == 1,1].numpy(), 'ro', label='y=1')\n",
    "plt.contour(xx, yy, f,cmap=plt.cm.Paired)\n",
    "\n",
    "plt.show()"
   ]
  },
  {
   "cell_type": "code",
   "execution_count": 84,
   "metadata": {},
   "outputs": [],
   "source": [
    "# Hyper-parameters \n",
    "input_size = 2\n",
    "hidden_size = 300 \n",
    "num_classes = 2\n",
    "dropout = 0.5\n",
    "num_epochs = 100\n",
    "batch_size = 64\n",
    "learning_rate = 0.01\n",
    "\n",
    "# Create model class - default weight intialization\n",
    "class NN(nn.Module):\n",
    "    def __init__(self, input_size, hidden_size, num_classes, p=0):\n",
    "        super(NN, self).__init__()\n",
    "        self.l1 = nn.Linear(input_size, hidden_size)\n",
    "        self.l2 = nn.Linear(hidden_size, hidden_size)\n",
    "        self.l3 = nn.Linear(hidden_size, num_classes)\n",
    "        self.drop = nn.Dropout(p=p)\n",
    "        self.act = nn.ReLU()\n",
    "        \n",
    "    def forward(self, x):\n",
    "        out = self.l1(x)\n",
    "        out = self.drop(out)\n",
    "        out = self.act(out)\n",
    "        out = self.l2(out)\n",
    "        out = self.drop(out)\n",
    "        out = self.act(out)\n",
    "        out = self.l3(out)\n",
    "        return (out)\n",
    "\n",
    "# Create model class - Xavier intialization   \n",
    "class NN_X(nn.Module):\n",
    "    def __init__(self, input_size, hidden_size, num_classes, p=0):\n",
    "        super(NN_X, self).__init__()\n",
    "        self.l1 = nn.Linear(input_size, hidden_size)\n",
    "        self.xavier = torch.nn.init.xavier_uniform_(self.l1.weight)\n",
    "        self.l2 = nn.Linear(hidden_size, hidden_size)\n",
    "        self.l3 = nn.Linear(hidden_size, num_classes)\n",
    "        self.drop = nn.Dropout(p=p)\n",
    "        self.act = nn.Tanh()\n",
    "        \n",
    "    def forward(self, x):\n",
    "        out = self.l1(x)\n",
    "        out = self.drop(out)\n",
    "        out = self.act(out)\n",
    "        out = self.l2(out)\n",
    "        out = self.drop(out)\n",
    "        out = self.act(out)\n",
    "        out = self.l3(out)\n",
    "        return (out)\n",
    "    \n",
    "# Create model class - Xavier intialization   \n",
    "class NN_HE(nn.Module):\n",
    "    def __init__(self, input_size, hidden_size, num_classes, p=0):\n",
    "        super(NN_HE, self).__init__()\n",
    "        self.l1 = nn.Linear(input_size, hidden_size)\n",
    "        self.he = torch.nn.init.kaiming_uniform_(self.l1.weight, nonlinearity='relu')\n",
    "        self.l2 = nn.Linear(hidden_size, hidden_size)\n",
    "        self.l3 = nn.Linear(hidden_size, num_classes)\n",
    "        self.drop = nn.Dropout(p=p)\n",
    "        self.act = nn.ReLU()\n",
    "        \n",
    "    def forward(self, x):\n",
    "        out = self.l1(x)\n",
    "        out = self.drop(out)\n",
    "        out = self.act(out)\n",
    "        out = self.l2(out)\n",
    "        out = self.drop(out)\n",
    "        out = self.act(out)\n",
    "        out = self.l3(out)\n",
    "        return (out)    \n",
    "    \n",
    "# Instantiate model\n",
    "# model = NN(input_size, hidden_size, num_classes, p=dropout).to(device)\n",
    "model = NN_X(input_size, hidden_size, num_classes, p=dropout).to(device)\n",
    "# model = NN_HE(input_size, hidden_size, num_classes, p=dropout).to(device)\n",
    "\n",
    "# Define Loss & Optimzier\n",
    "criterion = nn.CrossEntropyLoss()\n",
    "# optimizer = torch.optim.Adam(model.parameters(), lr=learning_rate)\n",
    "optimizer = torch.optim.SGD(model.parameters(), lr=learning_rate)"
   ]
  },
  {
   "cell_type": "code",
   "execution_count": 85,
   "metadata": {},
   "outputs": [
    {
     "name": "stderr",
     "output_type": "stream",
     "text": [
      "100%|████████████████████████████████████████████████████████████████████████████████| 100/100 [00:08<00:00, 12.17it/s]\n"
     ]
    },
    {
     "data": {
      "image/png": "[encoded data removed]",
      "text/plain": [
       "<Figure size 720x360 with 2 Axes>"
      ]
     },
     "metadata": {
      "needs_background": "light"
     },
     "output_type": "display_data"
    }
   ],
   "source": [
    "# Function to train the model & compute training loss/accuracy\n",
    "def train_model():\n",
    "    n_correct = 0\n",
    "    train_accuracy = []\n",
    "    train_loss = []\n",
    "    total_samples = 0\n",
    "    for epoch in tqdm(range(num_epochs)):\n",
    "        for i, (x_train, y_train) in enumerate(train_loader):\n",
    "            x_train = x_train.to(device)\n",
    "            y_train = y_train.to(device)\n",
    "            # Forward pass\n",
    "            yhat_train = model(x_train)\n",
    "            loss = criterion(yhat_train, y_train)\n",
    "\n",
    "            # Backward pass and optimize\n",
    "            optimizer.zero_grad()\n",
    "            loss.backward()\n",
    "            optimizer.step()\n",
    "\n",
    "            # Compute accuracy\n",
    "            _, predicted = torch.max(yhat_train.data, 1)\n",
    "            n_correct += (predicted == y_train).sum().item()\n",
    "            total_samples+=len(y_train)\n",
    "            \n",
    "        # Append loss & accuracy after each epoch\n",
    "        train_loss.append(loss.item())\n",
    "        train_accuracy.append(n_correct/total_samples)\n",
    "    return(train_accuracy, train_loss)\n",
    "\n",
    "# Train the model\n",
    "train_accuracy, train_loss = train_model()\n",
    "\n",
    "# Plot training accuracy & loss\n",
    "plt.figure(figsize=(10,5))\n",
    "plt.subplot(1,2,1)\n",
    "plt.plot(train_accuracy[::25])\n",
    "plt.title ('Training Accuracy')\n",
    "plt.subplot(1,2,2)\n",
    "plt.plot(train_loss[::25])\n",
    "plt.title ('Training Loss')\n",
    "plt.show()"
   ]
  },
  {
   "cell_type": "code",
   "execution_count": 86,
   "metadata": {},
   "outputs": [
    {
     "data": {
      "image/png": "[encoded data removed]",
      "text/plain": [
       "<Figure size 720x360 with 2 Axes>"
      ]
     },
     "metadata": {
      "needs_background": "light"
     },
     "output_type": "display_data"
    }
   ],
   "source": [
    "# Function to test the model & compute testing loss/accuracy\n",
    "# In test phase, we don't need to compute gradients (for memory efficiency)\n",
    "def test_model():\n",
    "    with torch.no_grad():\n",
    "        n_correct = 0\n",
    "        test_accuracy = []\n",
    "        test_loss = []\n",
    "        total_samples = 0\n",
    "        for i, (x_test, y_test) in enumerate(test_loader):\n",
    "            x_test = x_test.to(device)\n",
    "            y_test = y_test.to(device)\n",
    "            yhat_test = model(x_test)\n",
    "            loss = criterion(yhat_test, y_test)\n",
    "            \n",
    "            # Compute accuracy\n",
    "            _, predicted = torch.max(yhat_test.data, 1)\n",
    "            n_correct += (predicted == y_test).sum().item()\n",
    "            total_samples+=len(y_test)\n",
    "            \n",
    "            # Append loss & accuracy after each epoch\n",
    "            test_loss.append(loss.item())\n",
    "            test_accuracy.append(n_correct/total_samples)\n",
    "\n",
    "        return(test_accuracy, test_loss)\n",
    "    \n",
    "# Test the model\n",
    "test_accuracy, test_loss = test_model()\n",
    "\n",
    "# Plot training accuracy & loss\n",
    "plt.figure(figsize=(10,5))\n",
    "plt.subplot(1,2,1)\n",
    "plt.plot(test_accuracy)\n",
    "plt.title ('Testing Accuracy')\n",
    "plt.subplot(1,2,2)\n",
    "plt.plot(test_loss)\n",
    "plt.title ('Testing Loss')\n",
    "plt.show()"
   ]
  },
  {
   "cell_type": "markdown",
   "metadata": {},
   "source": [
    "# CNN"
   ]
  },
  {
   "cell_type": "code",
   "execution_count": 63,
   "metadata": {},
   "outputs": [
    {
     "data": {
      "text/plain": [
       "(array([7, 9, 8, 7, 2, 9, 8, 1, 2, 1]),\n",
       " array([1., 1., 1., 1., 0., 1., 1., 0., 0., 0.]))"
      ]
     },
     "execution_count": 63,
     "metadata": {},
     "output_type": "execute_result"
    }
   ],
   "source": [
    "a = np.random.randint(1,10,10)\n",
    "b = np.zeros((10))\n",
    "b [np.sqrt(a)>1.5] = 1\n",
    "a, b"
   ]
  },
  {
   "cell_type": "code",
   "execution_count": 62,
   "metadata": {},
   "outputs": [
    {
     "data": {
      "text/plain": [
       "5.999999999999999"
      ]
     },
     "execution_count": 62,
     "metadata": {},
     "output_type": "execute_result"
    }
   ],
   "source": []
  },
  {
   "cell_type": "code",
   "execution_count": 99,
   "metadata": {},
   "outputs": [
    {
     "data": {
      "text/plain": [
       "torch.Size([2, 2, 2])"
      ]
     },
     "execution_count": 99,
     "metadata": {},
     "output_type": "execute_result"
    }
   ],
   "source": [
    "t = torch.tensor([[[1, 2],\n",
    "                       [3, 4]],\n",
    "                      [[5, 6],\n",
    "                       [7, 8]]])\n",
    "t.shape"
   ]
  },
  {
   "cell_type": "code",
   "execution_count": 100,
   "metadata": {},
   "outputs": [
    {
     "data": {
      "text/plain": [
       "(torch.Size([2, 2, 2]), tensor([[[1, 2],\n",
       "          [3, 4]],\n",
       " \n",
       "         [[5, 6],\n",
       "          [7, 8]]]))"
      ]
     },
     "execution_count": 100,
     "metadata": {},
     "output_type": "execute_result"
    }
   ],
   "source": [
    "t = torch.flatten(t, start_dim=2)\n",
    "t.shape, t"
   ]
  },
  {
   "cell_type": "code",
   "execution_count": 108,
   "metadata": {},
   "outputs": [],
   "source": [
    "names = ['None', 'Baba', 'Dylan', 'Tyler'] \n",
    "greet_count = dict()"
   ]
  },
  {
   "cell_type": "code",
   "execution_count": 118,
   "metadata": {},
   "outputs": [],
   "source": [
    "id?"
   ]
  }
 ],
 "metadata": {
  "kernelspec": {
   "display_name": "Python 3",
   "language": "python",
   "name": "python3"
  },
  "language_info": {
   "codemirror_mode": {
    "name": "ipython",
    "version": 3
   },
   "file_extension": ".py",
   "mimetype": "text/x-python",
   "name": "python",
   "nbconvert_exporter": "python",
   "pygments_lexer": "ipython3",
   "version": "3.7.3"
  }
 },
 "nbformat": 4,
 "nbformat_minor": 2
}
